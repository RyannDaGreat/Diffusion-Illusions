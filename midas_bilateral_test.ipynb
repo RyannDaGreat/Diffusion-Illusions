{
 "cells": [
  {
   "cell_type": "code",
   "execution_count": null,
   "id": "7ad2a192-42cf-4ba9-92db-b269dba220d8",
   "metadata": {},
   "outputs": [],
   "source": [
    "import rp\n",
    "from source.midas import MIDAS\n",
    "from source.bilateral_blur import bilateral_blur"
   ]
  },
  {
   "cell_type": "code",
   "execution_count": null,
   "id": "3885ceaf-1ae9-4452-880f-0d4cc3146b8f",
   "metadata": {},
   "outputs": [],
   "source": [
    "device=rp.select_torch_device()\n",
    "midas=MIDAS(device)"
   ]
  },
  {
   "cell_type": "code",
   "execution_count": null,
   "id": "12b21e8d-396e-4d63-9d92-d89bd51b4279",
   "metadata": {},
   "outputs": [],
   "source": [
    "def test(url=\"https://mystjourney.com/img/screenshots/riven-11.jpg\"):\n",
    "    \n",
    "    image = rp.load_image(url, use_cache=True)\n",
    "    \n",
    "    image=rp.resize_image_to_fit(image, height=1024, width=1024, allow_growth=False) #For speed\n",
    "    \n",
    "    kernel = midas.get_rgbd_kernel_image(image, rgb_scale=.2, depth_scale=20)\n",
    "    depth = rp.apply_colormap_to_image(rp.full_range(kernel[:, :, 3]))\n",
    "    blurred = bilateral_blur(image, kernel, iterations=100)\n",
    "\n",
    "    rp.display_image(\n",
    "        rp.horizontally_concatenated_images(\n",
    "            image, depth, blurred\n",
    "        )\n",
    "    )"
   ]
  },
  {
   "cell_type": "code",
   "execution_count": null,
   "id": "2691fe62-45e9-4b3b-80eb-9a1bbfd06dd9",
   "metadata": {},
   "outputs": [],
   "source": [
    "urls=\"\"\"\n",
    "https://mystjourney.com/img/screenshots/riven-11.jpg\n",
    "https://hips.hearstapps.com/digitalspyuk.cdnds.net/16/25/1466424578-charlie-and-the-chocolate-factory-cast.jpg\n",
    "https://i.guim.co.uk/img/media/027e5b10de35aefacb5715d789eba406763716d9/0_202_3208_1925/master/3208.jpg?width=465&quality=85&dpr=1&s=none\n",
    "https://www.cnet.com/a/img/resize/6ad051fe29fdcfaa512d6c3ce65cbc82850c170e/hub/2019/10/19/6d569d9c-e5c2-48cf-9734-49ba0b28c605/battlestar-galactica-promo-image.jpg?auto=webp&fit=crop&height=675&width=1200\n",
    "https://cdn.hswstatic.com/gif/clean-roommate-orig-srgb.jpg\n",
    "https://mir-s3-cdn-cf.behance.net/projects/max_808/ff8a5f119249451.Y3JvcCw4MTgsNjQwLDQwNSww.jpg\n",
    "https://deadline.com/wp-content/uploads/2021/02/Avatar-The-Last-Airbender-Legend-Of-Aang-Nickelodeon-Nick-ATLA-ATLOA-e1655304503771.jpg?crop=0px%2C1px%2C1164px%2C653px&resize=681%2C383\n",
    "https://cdn.wallpapersafari.com/88/56/Rb4BQI.jpg\n",
    "\"\"\"\n",
    "\n",
    "urls=urls.strip().splitlines()\n",
    "for url in urls:\n",
    "    test(url)"
   ]
  }
 ],
 "metadata": {
  "kernelspec": {
   "display_name": "Python 3.10 (sd2_dream)",
   "language": "python",
   "name": "sd2_dream"
  },
  "language_info": {
   "codemirror_mode": {
    "name": "ipython",
    "version": 3
   },
   "file_extension": ".py",
   "mimetype": "text/x-python",
   "name": "python",
   "nbconvert_exporter": "python",
   "pygments_lexer": "ipython3",
   "version": "3.10.11"
  }
 },
 "nbformat": 4,
 "nbformat_minor": 5
}
