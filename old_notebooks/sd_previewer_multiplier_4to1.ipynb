{
 "cells": [
  {
   "cell_type": "code",
   "execution_count": null,
   "id": "baa671b1-0315-4c41-b876-fb62bf9c9439",
   "metadata": {},
   "outputs": [],
   "source": [
    "print(\"HELO\")"
   ]
  },
  {
   "cell_type": "code",
   "execution_count": null,
   "id": "e0ec7b35-00c7-4ec8-beb3-205a09d1f5d0",
   "metadata": {},
   "outputs": [],
   "source": [
    "%load_ext autoreload\n",
    "%autoreload 2\n",
    "\n",
    "from icecream import ic\n",
    "import numpy as np\n",
    "import rp\n",
    "import torch\n",
    "import torch.nn as nn\n",
    "import source.stable_diffusion as sd\n",
    "from easydict import EasyDict\n",
    "from source.learnable_textures import (LearnableImageFourier,\n",
    "                                       LearnableImageFourierBilateral,\n",
    "                                       LearnableImageRaster,\n",
    "                                       LearnableImageRasterBilateral,\n",
    "                                       LearnableTexturePackFourier,\n",
    "                                       LearnableTexturePackRaster)\n",
    "from source.stable_diffusion_labels import BaseLabel, SimpleLabel, NegativeLabel"
   ]
  },
  {
   "cell_type": "code",
   "execution_count": null,
   "id": "3a3ad4a1-e8b2-4db6-ba6e-cb4da32fb97a",
   "metadata": {},
   "outputs": [],
   "source": [
    "if 's' not in dir():\n",
    "    model_name=\"CompVis/stable-diffusion-v1-4\"\n",
    "    gpu='cuda:0'\n",
    "    s=sd.StableDiffusion(gpu,model_name)\n",
    "device=s.device"
   ]
  },
  {
   "cell_type": "code",
   "execution_count": null,
   "id": "8ec33708-ffce-4bcc-8c27-c5b59db20436",
   "metadata": {},
   "outputs": [],
   "source": [
    "#ONLY GOOD PROMPTS HERE\n",
    "good_prompts = EasyDict(\n",
    "    kitten_in_box = 'A cute kitten in a cardboard box in times square',\n",
    "    botw_landscape = 'The Legend of Zelda landscape atmospheric, hyper realistic, 8k, epic composition, cinematic, octane render, artstation landscape vista photography by Carr Clifton & Galen Rowell, 16K resolution, Landscape veduta photo by Dustin Lefevre & tdraw, 8k resolution, detailed landscape painting by Ivan Shishkin, DeviantArt, Flickr, rendered in Enscape, Miyazaki, Nausicaa Ghibli, Breath of The Wild, 4k detailed post processing, artstation, rendering by octane, unreal engine —ar 16:9',\n",
    "    magic_emma_watson = 'ultra realistic photo portrait of Emma Watson cosmic energy, colorful, painting burst, beautiful symmetrical face, nonchalant kind look, realistic round eyes, tone mapped, intricate, elegant, highly detailed, digital painting, artstation, concept art, smooth, sharp focus, illustration, dreamy magical atmosphere, art by artgerm and greg rutkowski and alphonse mucha, 4k, 8k',\n",
    "    yorkshire_terrier_santa = 'Insanely detailed studio portrait shot photo of intricately detailed beautiful yorkshire terrier dressed as santa clause, smirking mischievously at the camera with mischievous detailed yellow green eyes , very detailed, rim light, photo, rim light, ultra-realistic, photorealistic, hyper detailed, photography, shot on Canon DSLR, f/2. 8 , photography by Felix Kunze and Annie Leibovitz and retouched by Pratik Naik',\n",
    "    norwegian_winter_girl = 'professional portrait photograph of a gorgeous Norwegian girl in winter clothing with long wavy blonde hair, freckles, gorgeous symmetrical face, cute natural makeup, wearing elegant warm winter fashion clothing, ((standing outside in snowy city street)), mid shot, central image composition, (((professionally color graded))), (((bright soft diffused light)))',\n",
    "    magic_forest_temple = '8 k concept art from a hindu temple lost in the jungle by david mattingly and samuel araya and michael whelan and dave mckean and richard corben. realistic matte painting with photorealistic hdr volumetric lighting. composition and layout inspired by gregory crewdson. ',\n",
    "    sailing_ship = 'a big sailing ship in heavy sea, hypermaximalistic, high details, cinematic, 8k resolution, beautiful detailed, insanely intricate details, artstation trending, octane render, unreal engine',\n",
    "    bioshock_lighthouse = 'giant standalone lighthouse from bioshock infinite in england 1 9 century, half - ruined, covered by mold, staying in 2 kilometers far from a coast, opposite the dark cave - crack of giant rocks. when you see this lighthouse it makes you anxious. deep ones is living under this. view from sea, and view from the coast, by greg rutkowski',\n",
    "    two_bunnys_hugging = 'photo of bunny hugging another bunny, dramatic light, pale sunrise, cinematic lighting',\n",
    "    thomas_tank_military = 'thomas the tank engine as a military tank, intricate, highly detailed, centered, digital painting, artstation, concept art, smooth, sharp focus, illustration, artgerm, tomasz alen kopera, peter mohrbacher, donato giancola, joseph christian leyendecker, wlop, boris vallejo',\n",
    "    wolf_on_rock = 'a wolf with a tail, standing heroically on a rock. adventurous, new adventure, with a tail, forest, rocks, stream, ripples, tribal armor, female, wolf wolf wolf, atmospheric lighting, stunning, brave. by makoto shinkai, stanley artgerm lau, wlop, rossdraws, james jean, andrei riabovitchev, marc simonetti, krenz cushart, sakimichan, d & d trending on artstation, digital art. ',\n",
    "    lolita_dress_girl = 'lolita dress, angelic pretty, award winning photograph trending on artstation',\n",
    "    lolita_dress_magical_elf = 'lolita dress, angelic pretty, portrait of magical lolita woman elf elven,  hyperrealism photography hdr 4k 3d, dreamy and ethereal, fantasy, intricate, elegant, many rainbow bubbles, rose tones, highly detailed, artstation, concept art, cyberpunk wearing, smooth, sharp focus, illustration, art by artgerm and greg rutkowskiand alphonse mucha',\n",
    "    pencil_giraffe_head = 'an intricate detailed hb pencil sketch of a giraffe head',\n",
    "    pencil_penguin = 'an intricate detailed hb pencil sketch of a penguin',\n",
    "    pencil_violin = 'an intricate detailed hb pencil sketch of a violin',\n",
    "    pencil_orca_whale = 'an orca whale spouting water intricate detailed hb pencil sketch of an black white spotted orca whale',\n",
    "    pencil_cow = 'an intricate detailed hb pencil sketch of a black white spotted cow',\n",
    "    pencil_walrus = 'an intricate detailed hb pencil sketch of a walrus',\n",
    "    pencil_cat_head = 'an sketch of a cat head',\n",
    "    ape_with_gun = 'detailed science - fiction character portrait of a silverback gorilla shooting a alien gun in space, intricate, wild, highly detailed, digital painting, artstation, concept art, smooth, sharp focus, illustration, art by artgerm and greg rutkowski and alphonse mucha',\n",
    "    human_skeleton = 'weta disney pixar movie still macro close photo of a skeleton with triopan cones for hands. his hands are triopan cones. : : by weta, greg rutkowski, wlop, ilya kuvshinov, rossdraws, artgerm, octane render, iridescent, bright morning, anime, liosh, mucha : :',\n",
    "    gold_coins = 'an old wooden table covered in gold coins and treasure, detailed oil painting, trending on Artstation',\n",
    "    golf_ball_in_forest = 'photo of a golf ball in a magical forest. dof. Bokeh. By greg rutkowski. Nikon D850. Award winning',\n",
    "    bear_in_forest = 'photo of a brown bear attacking the camera. Nikon D850. Award winning. Scary teeth claws full body shot cinematic movie',\n",
    "    elephant_in_circus = 'photo of a elephant in a magical circus. dof. Bokeh. By greg rutkowski. Nikon D850. Award winning.',\n",
    "    mickey_mouse = 'mickey mouse oil on canvas, artstation trending',\n",
    "    mushroom = 'a mushroom in a magical forest. dof. Bokeh. By greg rutkowski. Nikon D850. Award winning',\n",
    "    mario = 'mario 3d nintendo video game',\n",
    "    burger = 'big juicy hamburger with cheese and tomato and lettuice. Sesame seed bun. Advertisement beautiful dlsr hdr bokeh. ',\n",
    "    darth_vader = 'photo of a ultra realistic darth vader dramatic light, muscle, cinematic lighting, battered, low angle, static, 4k, hyper realistic, focused, extreme details, bokeh blackground, cinematic, masterpiece, intricate artwork, details,',\n",
    "    gandalf = 'Gandalf the Grey Wizard in Moonlight by Alan Lee, Glowing staff, full body concept art, intricate clothing, micro detail, octane render, 4K, art station',\n",
    "    fantasy_city = 'an ultra detailed matte painting of the quaint capital city of galic, grid shaped city cobblestone streets, fantasy city, light snowfall, wind, inspiring renaissance architecture, ultrawide lense, aerial photography, unreal engine, exquisite detail, 8 k, art by greg rutkowski and alphonse mucha',\n",
    "    green_elf_girl = 'a highly detailed portrait painting of a beautiful healer elf female male, long brown hair with braids and green highlights, long elf ears, asian decent, facial tribal markings, by greg rutkowski and alphonse mucha, sharp focus, matte, concept art, artstation, digital painting',\n",
    ")"
   ]
  },
  {
   "cell_type": "code",
   "execution_count": null,
   "id": "c793c1ee-fa66-44e4-abab-d4dd1ca2dc82",
   "metadata": {},
   "outputs": [],
   "source": [
    "rp.display_image(NegativeLabel(\n",
    "    good_prompts.green_elf_girl\n",
    ").get_sample_image())"
   ]
  },
  {
   "cell_type": "code",
   "execution_count": null,
   "id": "15243c8f-8339-4175-bed0-e0314112e440",
   "metadata": {},
   "outputs": [],
   "source": [
    "#ONLY GOOD PROMPTS HERE\n",
    "prompt_w = good_prompts.green_elf_girl\n",
    "prompt_y = good_prompts.kitten_in_box\n",
    "prompt_x = good_prompts.ape_with_gun\n",
    "prompt_z = good_prompts.mario\n",
    "prompt_a = good_prompts.gandalf"
   ]
  },
  {
   "cell_type": "code",
   "execution_count": null,
   "id": "e5707710-66d9-453e-8e56-b031c78d7924",
   "metadata": {},
   "outputs": [],
   "source": [
    "negative_prompt = ''\n",
    "# negative_prompt = prompt_a\n",
    "label_w = NegativeLabel(prompt_w,negative_prompt)\n",
    "label_x = NegativeLabel(prompt_x,negative_prompt)\n",
    "label_y = NegativeLabel(prompt_y,negative_prompt)\n",
    "label_z = NegativeLabel(prompt_z,negative_prompt)\n",
    "\n",
    "label_a = SimpleLabel(prompt_a)"
   ]
  },
  {
   "cell_type": "code",
   "execution_count": null,
   "id": "cc1c3a66-f2d3-4917-80f4-61c4f7fcfff7",
   "metadata": {},
   "outputs": [],
   "source": [
    "print(\"Factors\")\n",
    "rp.display_image(label_w.get_sample_image())\n",
    "rp.display_image(label_x.get_sample_image())\n",
    "rp.display_image(label_y.get_sample_image())\n",
    "rp.display_image(label_z.get_sample_image())\n",
    "print(\"Products\")\n",
    "rp.display_image(label_a.get_sample_image())"
   ]
  },
  {
   "cell_type": "code",
   "execution_count": null,
   "id": "5ef717ef-7751-4a3a-b3f1-751e9d7140f6",
   "metadata": {},
   "outputs": [],
   "source": [
    "#Mixing 4->1\n",
    "\n",
    "#Random timestep vs this scheduleShould be faster.\n",
    "\n",
    "#Select Learnable Image Type:\n",
    "learnable_image_maker = lambda:LearnableImageFourier().to(s.device)\n",
    "# learnable_image_maker = lambda:LearnableImageFourier(height=512,width=512,num_features=512,hidden_dim=512,scale=20).to(s.device)\n",
    "\n",
    "learnable_image_w=learnable_image_maker()\n",
    "learnable_image_x=learnable_image_maker()\n",
    "learnable_image_y=learnable_image_maker()\n",
    "learnable_image_z=learnable_image_maker()\n",
    "\n",
    "#Flip it upside-down to make it less recognizable\n",
    "learnable_image_a=lambda:torch.clamp(\n",
    "     4*learnable_image_w()*learnable_image_x()*learnable_image_y()*learnable_image_z(),\n",
    "    min=0,max=1\n",
    ").flip([1])\n",
    "\n",
    "from itertools import chain\n",
    "\n",
    "params=chain(\n",
    "    learnable_image_w.parameters(),\n",
    "    learnable_image_x.parameters(),\n",
    "    learnable_image_y.parameters(),\n",
    "    learnable_image_z.parameters(),\n",
    ")\n",
    "optim=torch.optim.SGD(params,lr=1e-4)"
   ]
  },
  {
   "cell_type": "code",
   "execution_count": null,
   "id": "cb594a83-932f-4ea1-ae74-b20109f180f5",
   "metadata": {},
   "outputs": [],
   "source": [
    "labels=[label_w,label_x,label_y,label_z,label_a]\n",
    "learnable_images=[learnable_image_w,learnable_image_x,learnable_image_y,learnable_image_z,learnable_image_a]\n",
    "weights=[1,1,1,1,1]\n",
    "\n",
    "weights=rp.as_numpy_array(weights)\n",
    "weights=weights/weights.sum()\n",
    "weights=weights*4"
   ]
  },
  {
   "cell_type": "code",
   "execution_count": null,
   "id": "c1989b01-87c4-4b4f-a330-21c7f0422f72",
   "metadata": {},
   "outputs": [],
   "source": [
    "labels=[label_w,label_x,label_y,label_z,label_a]\n",
    "learnable_images=[learnable_image_w,learnable_image_x,learnable_image_y,learnable_image_z,learnable_image_a]\n",
    "weights=[1,1,1,1,1]\n",
    "\n",
    "weights=rp.as_numpy_array(weights)\n",
    "weights=weights/weights.sum()\n",
    "weights=weights*4\n",
    "\n",
    "\n",
    "NUM_ITER=100000\n",
    "s.max_step=MAX_STEP=990\n",
    "# s.min_step=MIN_STEP=450\n",
    "s.min_step=MIN_STEP=10\n",
    "\n",
    "et=rp.eta(NUM_ITER)\n",
    "\n",
    "# folder='sd_previewer_results2/'+prompt[:100]+rp.random_namespace_hash()\n",
    "# rp.make_folder(folder)\n",
    "\n",
    "for iter_num in range(NUM_ITER):\n",
    "    \n",
    "    step = rp.blend(MAX_STEP,MIN_STEP,iter_num/NUM_ITER)\n",
    "    # s.min_step = s.max_step = int(step)\n",
    "    \n",
    "    et(iter_num)\n",
    "\n",
    "    # image=learnable_image()\n",
    "    # variants=list(get_variants(image,label))\n",
    "    # num_variants=len(variants)\n",
    "    \n",
    "    preds=[]\n",
    "    for label,learnable_image,weight in rp.random_batch(list(zip(labels,learnable_images,weights)),1):\n",
    "        pred=s.train_step(\n",
    "            label.embedding,\n",
    "            learnable_image()[None],\n",
    "\n",
    "            #PRESETS (uncomment one):\n",
    "            noise_coef=.1*weight,guidance_scale=50,#10\n",
    "            # noise_coef=0,image_coef=-.01,guidance_scale=50,\n",
    "            # noise_coef=0,image_coef=-.005,guidance_scale=50,\n",
    "            # noise_coef=.1,image_coef=-.010,guidance_scale=50,\n",
    "            # noise_coef=.1,image_coef=-.005,guidance_scale=50,\n",
    "            # noise_coef=.1*weight, image_coef=-.005*weight, guidance_scale=50,\n",
    "        )\n",
    "        preds+=list(pred)\n",
    "\n",
    "    with torch.no_grad():\n",
    "        # if not iter_num%20:\n",
    "        if not iter_num%200:\n",
    "            im=rp.tiled_images([\n",
    "                rp.as_numpy_image(learnable_image_w()),\n",
    "                rp.as_numpy_image(learnable_image_x()),\n",
    "                rp.as_numpy_image(learnable_image_y()),\n",
    "                rp.as_numpy_image(learnable_image_z()),\n",
    "                rp.as_numpy_image(learnable_image_a()),\n",
    "            ])\n",
    "            # rp.save_image(im,folder+'/%06i.png'%iter_num)\n",
    "            rp.display_image(im)\n",
    "            \n",
    "        if False and not iter_num%200:\n",
    "            pim=rp.tiled_images([\n",
    "                *rp.as_numpy_images(s.decode_latents(torch.stack(preds))),\n",
    "            ])\n",
    "            rp.display_image(pim)\n",
    "            \n",
    "    optim.step()\n",
    "    optim.zero_grad()"
   ]
  },
  {
   "cell_type": "code",
   "execution_count": null,
   "id": "70eea7c3-833c-4e04-939e-2d4ff003c8f1",
   "metadata": {},
   "outputs": [],
   "source": [
    "im=rp.tiled_images([\n",
    "    *rp.as_numpy_images(s.decode_latents(torch.stack(preds))),\n",
    "])\n",
    "# rp.save_image(im,folder+'/%06i.png'%iter_num)\n",
    "rp.display_image(im)"
   ]
  },
  {
   "cell_type": "code",
   "execution_count": null,
   "id": "746587b3-b648-4052-90e5-90d4291bd22f",
   "metadata": {},
   "outputs": [],
   "source": [
    "torch.stack(preds).shape"
   ]
  },
  {
   "cell_type": "code",
   "execution_count": null,
   "id": "8ef719b0-20fb-42d1-b512-e15093f7efec",
   "metadata": {},
   "outputs": [],
   "source": [
    "torch.cuda.empty_cache()"
   ]
  },
  {
   "cell_type": "code",
   "execution_count": null,
   "id": "c1da6c7b-42bf-4d27-933d-f67e374960c8",
   "metadata": {},
   "outputs": [],
   "source": [
    "4"
   ]
  },
  {
   "cell_type": "code",
   "execution_count": null,
   "id": "4b6ee59d-0dca-4c87-aa22-13cd3cb210d4",
   "metadata": {},
   "outputs": [],
   "source": []
  },
  {
   "cell_type": "code",
   "execution_count": null,
   "id": "40398992-9c8d-42e6-9467-3c833baa0862",
   "metadata": {},
   "outputs": [],
   "source": []
  },
  {
   "cell_type": "code",
   "execution_count": null,
   "id": "a071bf95-ec66-41e1-b70d-cde5131b6a01",
   "metadata": {},
   "outputs": [],
   "source": []
  },
  {
   "cell_type": "code",
   "execution_count": null,
   "id": "1726fcea-4b38-462b-9e4f-eb8e634c8739",
   "metadata": {},
   "outputs": [],
   "source": []
  },
  {
   "cell_type": "code",
   "execution_count": null,
   "id": "21e92a8f-6e9e-4040-8ae4-8fe18c135cce",
   "metadata": {},
   "outputs": [],
   "source": []
  }
 ],
 "metadata": {
  "kernelspec": {
   "display_name": "Python 3 (ipykernel)",
   "language": "python",
   "name": "python3"
  },
  "language_info": {
   "codemirror_mode": {
    "name": "ipython",
    "version": 3
   },
   "file_extension": ".py",
   "mimetype": "text/x-python",
   "name": "python",
   "nbconvert_exporter": "python",
   "pygments_lexer": "ipython3",
   "version": "3.8.10"
  }
 },
 "nbformat": 4,
 "nbformat_minor": 5
}
