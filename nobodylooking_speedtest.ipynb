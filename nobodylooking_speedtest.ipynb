{
 "cells": [
  {
   "cell_type": "code",
   "execution_count": null,
   "id": "0",
   "metadata": {},
   "outputs": [],
   "source": [
    "import rp\n",
    "from rp import *\n",
    "from IPython.display import clear_output\n",
    "times=[]\n",
    "for x in range(15):\n",
    "    rp.display_image(np.random.rand(1024,1024,3))\n",
    "    # rp.sleep(1)\n",
    "    clear_output()\n",
    "    time_taken=toc()\n",
    "    tic()\n",
    "    times.append(time_taken)\n",
    "    print(times)\n",
    "    "
   ]
  },
  {
   "cell_type": "code",
   "execution_count": null,
   "id": "1",
   "metadata": {},
   "outputs": [],
   "source": [
    "times"
   ]
  },
  {
   "cell_type": "code",
   "execution_count": null,
   "id": "2",
   "metadata": {},
   "outputs": [],
   "source": []
  }
 ],
 "metadata": {
  "kernelspec": {
   "display_name": "Python diffilu",
   "language": "python",
   "name": "diffilu"
  },
  "language_info": {
   "codemirror_mode": {
    "name": "ipython",
    "version": 3
   },
   "file_extension": ".py",
   "mimetype": "text/x-python",
   "name": "python",
   "nbconvert_exporter": "python",
   "pygments_lexer": "ipython3",
   "version": "3.10.13"
  }
 },
 "nbformat": 4,
 "nbformat_minor": 5
}
