{
 "cells": [
  {
   "cell_type": "code",
   "execution_count": null,
   "id": "c342cdfa-349d-415d-a43c-e5822499db32",
   "metadata": {},
   "outputs": [],
   "source": [
    "import rp\n",
    "from easydict import EasyDict\n",
    "from source.peekaboo import make_image_square\n",
    "from rp import ic\n",
    "import matplotlib.pyplot as plt\n",
    "%matplotlib inline\n",
    "%config InlineBackend.figure_format='retina'"
   ]
  },
  {
   "cell_type": "code",
   "execution_count": null,
   "id": "823a4aac-da38-4e88-aaf8-b84f932238a3",
   "metadata": {},
   "outputs": [],
   "source": [
    "outputs_folder='untracked/dep_peekaboo_RefMatte'"
   ]
  },
  {
   "cell_type": "code",
   "execution_count": null,
   "id": "540480b4-cbb0-4607-9beb-6c060dd3f779",
   "metadata": {},
   "outputs": [],
   "source": [
    "result_folders=outputs_folder\n",
    "result_folders=rp.get_all_folders(result_folders)\n",
    "result_folders=[rp.get_all_folders(x) for x in result_folders]\n",
    "result_folders=rp.list_flatten(result_folders)"
   ]
  },
  {
   "cell_type": "code",
   "execution_count": null,
   "id": "8118fa28-d453-4511-b9fe-a6319354ac71",
   "metadata": {},
   "outputs": [],
   "source": [
    "result_folders[0]"
   ]
  },
  {
   "cell_type": "code",
   "execution_count": null,
   "id": "be58038e-d49c-4e32-a1f4-fdb73aab6ebf",
   "metadata": {},
   "outputs": [],
   "source": [
    "rp.ic(len(result_folders))"
   ]
  },
  {
   "cell_type": "code",
   "execution_count": null,
   "id": "52b12b04-1322-483e-9471-1eef76aaaf6a",
   "metadata": {},
   "outputs": [],
   "source": [
    "class Result:\n",
    "    def __init__(self, path):\n",
    "        self.path=path\n",
    "        \n",
    "        self.trial_num=int(rp.get_folder_name(self.path)) # Like 000, 001 etc\n",
    "        self.params=EasyDict(rp.load_json(rp.path_join(self.path,'params.json')))\n",
    "        self.prompt=self.params.extra_data.prompt\n",
    "        self.name=self.params.extra_data.entry.image_name\n",
    "        self.preset_name=rp.get_folder_name(rp.get_parent_folder(self.path)).split('.')[-1]\n",
    "        self.square_image_method=self.params.extra_data.square_image_method\n",
    "        \n",
    "        self.alpha_path         =rp.path_join(self.path,'alphas','0.png')\n",
    "        self.image_path         =rp.path_join(self.path,'image.png')\n",
    "        self.preview_image_path =rp.path_join(self.path,'preview_image.png')\n",
    "        self.mask_path          =rp.path_join('datasets/RefMatte_RW_100',self.params.extra_data.entry.mask_path)\n",
    "        self.original_image_path=rp.path_join('datasets/RefMatte_RW_100',self.params.extra_data.entry.image_path)\n",
    "        self.mask_name=rp.get_file_name(self.mask_path, include_file_extension=False)\n",
    "        self.other_mask_path    =rp.path_join('datasets/RefMatte_RW_100',\n",
    "                                      self.params.extra_data.entry.mask_path\n",
    "                                      .replace('_1.png','_A.png')\n",
    "                                      .replace('_2.png','_B.png')\n",
    "                                      .replace('_A.png','_2.png')\n",
    "                                      .replace('_B.png','_1.png')\n",
    "                                     )\n",
    "\n",
    "        self.original_mask       =rp.load_image(self.mask_path          ,use_cache=True)\n",
    "        self.original_other_mask =rp.load_image(self.other_mask_path    ,use_cache=True)\n",
    "        \n",
    "        # self.original_mask, self.original_other_mask = self.original_other_mask, self.original_mask #Do the Ol' switcheroo! This is for testing the reverse...\n",
    "        \n",
    "        self.original_image      =rp.load_image(self.original_image_path,use_cache=True)\n",
    "        self.alpha               =rp.load_image(self.alpha_path         ,use_cache=True)\n",
    "        self.image               =rp.load_image(self.image_path         ,use_cache=True)\n",
    "        self.preview_image       =rp.load_image(self.preview_image_path ,use_cache=True)\n",
    "        self.mask      =rp.cv_resize_image(make_image_square(self.original_mask      , self.square_image_method),rp.get_image_dimensions(self.alpha))\n",
    "        self.other_mask=rp.cv_resize_image(make_image_square(self.original_other_mask, self.square_image_method),rp.get_image_dimensions(self.alpha))\n",
    "        \n",
    "        print(self)\n",
    "        \n",
    "    def __repr__(self):\n",
    "        return 'Result(%s, %s, %s)'%(self.mask_name, self.trial_num, self.preset_name)\n",
    "    \n",
    "    @property \n",
    "    def best_iou(self):\n",
    "        return get_best_iou(self)\n",
    "    \n",
    "    @property \n",
    "    def best_other_iou(self):\n",
    "        return get_best_iou(self,self.other_mask)\n",
    "    \n",
    "def try_load_result(path):\n",
    "    try:\n",
    "        return Result(path)\n",
    "    except Exception as e:\n",
    "        #AttributeError: 'EasyDict' object has no attribute 'extra_data'\n",
    "        rp.fansi_print(e,'red')"
   ]
  },
  {
   "cell_type": "code",
   "execution_count": null,
   "id": "5e296f0c-32b2-4078-8986-ab587bb3f84c",
   "metadata": {},
   "outputs": [],
   "source": [
    "from rp import *\n",
    "def get_mask_iou(*masks):\n",
    "    \"\"\"Calculates the IOU (intersection over union) of multiple binary masks\"\"\"\n",
    "    masks=detuple(masks)\n",
    "    assert all(is_image(mask) for mask in masks), 'All masks must be images as defined by rp.is_image'\n",
    "    assert len(set(get_image_dimensions(mask) for mask in masks))==1, 'All masks must have the same dimensions, but got shapes '+repr(set(get_image_dimensions(mask) for mask in masks))\n",
    "    masks = as_numpy_array([as_binary_image(as_grayscale_image(mask)) for mask in masks])\n",
    "    intersection = np.min(masks, axis=0)\n",
    "    union = np.max(masks, axis=0)\n",
    "    return np.sum(intersection) / np.sum(union)\n",
    "\n",
    "def get_iou(result, threshold=.1, mask=None):\n",
    "    return get_mask_iou(mask if mask is not None else result.mask, rp.as_float_image(result.alpha)>threshold)\n",
    "\n",
    "@memoized\n",
    "def get_best_iou(result, mask=None):\n",
    "    return max(get_iou(result, threshold, mask) for threshold in [.1,.2,.3,.4,.5,.6,.7,.8,.9])"
   ]
  },
  {
   "cell_type": "code",
   "execution_count": null,
   "id": "06ca7fb5-29f6-4ec0-b109-abc5817df82c",
   "metadata": {},
   "outputs": [],
   "source": [
    "from tqdm import tqdm\n",
    "import random\n",
    "from collections import defaultdict\n",
    "from typing import List\n",
    "\n",
    "@memoized\n",
    "def alpha_filter_1(alpha):\n",
    "    pred_img=alpha\n",
    "    alpha=pred_img\n",
    "    std=alpha.std()\n",
    "    alpha=alpha-alpha.mean()*.56\n",
    "    alpha=alpha/std/(2+.1)\n",
    "    pred_img=alpha\n",
    "    pred_img=rp.cv_gauss_blur(pred_img,10)\n",
    "    R=45\n",
    "    pred_img=rp.cv_dilate(pred_img,R,circular=True)\n",
    "    # pred_img=rp.cv_erode(pred_img,R-6,circular=True)\n",
    "    pred_img=rp.cv_erode(pred_img,R,circular=True)\n",
    "    R=9\n",
    "    pred_img=rp.cv_gauss_blur(pred_img,80)\n",
    "    pred_img=rp.cv_erode(pred_img,R,circular=True)\n",
    "    pred_img=rp.cv_dilate(pred_img,R,circular=True)\n",
    "    pred_img=rp.as_float_image(pred_img)\n",
    "    return pred_img\n",
    "\n",
    "@memoized\n",
    "def alpha_filter_2(alpha):\n",
    "    pred_img=alpha\n",
    "    alpha=pred_img\n",
    "    std=alpha.std()\n",
    "    #alpha=alpha-alpha.mean()*.56\n",
    "    #alpha=alpha/std/(2+.1)\n",
    "    #pred_img=alpha\n",
    "    #pred_img=rp.cv_gauss_blur(pred_img,10)\n",
    "    \n",
    "    R=40\n",
    "    pred_img=rp.cv_dilate(pred_img,R,circular=True)\n",
    "    pred_img=rp.cv_erode(pred_img,R,circular=True)\n",
    "    # R=10\n",
    "    # pred_img=rp.cv_gauss_blur(pred_img,10)\n",
    "    # pred_img=rp.cv_erode(pred_img,R,circular=True)\n",
    "    # pred_img=rp.cv_dilate(pred_img,R,circular=True)\n",
    "    pred_img=rp.as_float_image(pred_img)\n",
    "    return pred_img\n",
    "\n",
    "\n",
    "def chunkoozle(alpha,r=10,iter=1):\n",
    "    #Bad name maybe\n",
    "    alpha=as_grayscale_image(alpha)\n",
    "    alpha=as_float_image(alpha)\n",
    "    a=alpha\n",
    "    for _ in range(iter):\n",
    "        oa=a\n",
    "        a=cv_dilate(a,r,circular=True)\n",
    "        a=cv_erode(a,r,circular=True)\n",
    "        a=as_float_image(a)\n",
    "        a=np.maximum(a,oa)\n",
    "    return a\n",
    "\n",
    "@memoized\n",
    "def alpha_filter_3(alpha):\n",
    "    alpha=chunkoozle(alpha,60,2)\n",
    "    alpha=rp.as_float_image(alpha)\n",
    "    return alpha\n",
    "\n",
    "@memoized\n",
    "def alpha_filter_4(alpha):\n",
    "    alpha=chunkoozle(alpha,90,3)\n",
    "    alpha=rp.as_float_image(alpha)\n",
    "    return alpha\n",
    "\n",
    "@memoized\n",
    "def alpha_filter_5(alpha):\n",
    "    alpha=chunkoozle(alpha,70,1)\n",
    "    alpha=rp.as_float_image(alpha)\n",
    "    return alpha\n"
   ]
  },
  {
   "cell_type": "code",
   "execution_count": null,
   "id": "6df7617c-4fac-4ea5-9bf0-97fdd00c4164",
   "metadata": {},
   "outputs": [],
   "source": [
    "results = [x for x in rp.par_map(try_load_result, result_folders) if x is not None]"
   ]
  },
  {
   "cell_type": "code",
   "execution_count": null,
   "id": "803c9f58-5d1c-487a-8526-0cf1b50c1ab1",
   "metadata": {},
   "outputs": [],
   "source": [
    "best_results = sorted(results, key=get_best_iou, reverse=True)\n",
    "best_results = [x for x in best_results if x.square_image_method=='scale']"
   ]
  },
  {
   "cell_type": "code",
   "execution_count": null,
   "id": "2d4981d3-ee76-4f4f-bfa5-a7ae28022d57",
   "metadata": {},
   "outputs": [],
   "source": [
    "for i in range(10):\n",
    "    bri=best_results[i]\n",
    "    print(get_best_iou(bri))\n",
    "    rp.display_image(rp.horizontally_concatenated_images(bri.mask,bri.preview_image))\n",
    "    print()\n",
    "    print()"
   ]
  },
  {
   "cell_type": "code",
   "execution_count": null,
   "id": "e8cfd3b8-e31a-4341-b704-5bb6fc5a5ccd",
   "metadata": {},
   "outputs": [],
   "source": [
    "#REVERSED\n",
    "for i in range(20):\n",
    "    bri=best_results[-i-1]\n",
    "    print(get_best_iou(bri))\n",
    "    rp.display_image(rp.horizontally_concatenated_images(bri.mask,bri.preview_image))\n",
    "    print()\n",
    "    print()"
   ]
  },
  {
   "cell_type": "code",
   "execution_count": null,
   "id": "ba272ab3-555c-4409-9a52-d5a2b384a191",
   "metadata": {},
   "outputs": [],
   "source": [
    "plot_points = [\n",
    "    (x.best_iou, x.best_other_iou) for x in results \n",
    "    if (\n",
    "        # True\n",
    "        # x.preset_name=='midas_raster_bilateral_low_grav_bilat0rgb_sd15__200iter' \n",
    "        # and \n",
    "        x.square_image_method=='scale'\n",
    "    )\n",
    "]\n",
    "rp.scatter_plot(plot_points, xlabel='IOU', ylabel='Other IOU')"
   ]
  },
  {
   "cell_type": "code",
   "execution_count": null,
   "id": "7c8ec7e0-4270-46a4-84d1-aaec5066822e",
   "metadata": {},
   "outputs": [],
   "source": [
    "ious=[get_best_iou(result) for result in results]\n",
    "sorted(ious)\n",
    "import matplotlib.pyplot as plt\n",
    "\n",
    "def display_histogram(scores: list):\n",
    "    # Create a histogram with 10 bins\n",
    "    plt.hist(scores, bins=10, range=(0, 1), edgecolor='black')\n",
    "\n",
    "    # Add labels and title\n",
    "    plt.xlabel('IOU')\n",
    "    plt.ylabel('Frequency')\n",
    "    plt.title('Histogram of IOUs')\n",
    "\n",
    "    # Display the histogram\n",
    "    plt.show()\n",
    "    \n",
    "display_histogram(ious)\n",
    "ic(rp.median(ious),rp.mean(ious))"
   ]
  },
  {
   "cell_type": "code",
   "execution_count": null,
   "id": "9f663748-3327-473f-bf1b-67389cddffa9",
   "metadata": {},
   "outputs": [],
   "source": [
    "clusters=cluster_by_key(results, key=lambda x:(x.preset_name, x.square_image_method),as_dict=True)\n",
    "rp.pretty_print({cat:mean(x.best_iou for x in clusters[cat]) for cat in clusters})"
   ]
  },
  {
   "cell_type": "code",
   "execution_count": null,
   "id": "9366dabc-370f-490a-9b04-757bf60e4f32",
   "metadata": {},
   "outputs": [],
   "source": [
    "cluster_ious=[x.best_iou for x in clusters[('midas_raster_bilateral_low_grav_bilat0rgb_sd15__200iter', 'scale')]]\n",
    "display_histogram(cluster_ious)\n",
    "ic(rp.median(cluster_ious),rp.mean(cluster_ious))"
   ]
  },
  {
   "cell_type": "code",
   "execution_count": null,
   "id": "88bef93e-80c1-42ee-8e20-f00e2a59aa14",
   "metadata": {},
   "outputs": [],
   "source": []
  },
  {
   "cell_type": "code",
   "execution_count": null,
   "id": "0ca419c1-617e-49e5-a9a5-2a3b66857c99",
   "metadata": {},
   "outputs": [],
   "source": []
  },
  {
   "cell_type": "code",
   "execution_count": null,
   "id": "d25def4c-04e7-4368-a328-848b60ac8c61",
   "metadata": {},
   "outputs": [],
   "source": []
  },
  {
   "cell_type": "code",
   "execution_count": null,
   "id": "9d371bbf-be33-4ff9-949a-c3407621658b",
   "metadata": {},
   "outputs": [],
   "source": []
  },
  {
   "cell_type": "code",
   "execution_count": null,
   "id": "052772cd-a0e3-4bbc-8be0-b4a8f38cae64",
   "metadata": {},
   "outputs": [],
   "source": []
  }
 ],
 "metadata": {
  "kernelspec": {
   "display_name": "Python 3.10 (sd2_dream)",
   "language": "python",
   "name": "sd2_dream"
  },
  "language_info": {
   "codemirror_mode": {
    "name": "ipython",
    "version": 3
   },
   "file_extension": ".py",
   "mimetype": "text/x-python",
   "name": "python",
   "nbconvert_exporter": "python",
   "pygments_lexer": "ipython3",
   "version": "3.10.11"
  }
 },
 "nbformat": 4,
 "nbformat_minor": 5
}
