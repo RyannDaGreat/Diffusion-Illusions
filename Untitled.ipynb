{
 "cells": [
  {
   "cell_type": "code",
   "execution_count": null,
   "id": "268492b7-d927-46d2-a023-7eab7614bee6",
   "metadata": {},
   "outputs": [],
   "source": [
    "\n",
    "# device = \"cuda\"\n",
    "# url = \"https://raw.githubusercontent.com/CompVis/stable-diffusion/main/assets/stable-samples/img2img/sketch-mountains-input.jpg\"\n",
    "\n",
    "# response = requests.get(url)\n",
    "# init_image = Image.open(BytesIO(response.content)).convert(\"RGB\")\n",
    "# init_image = init_image.resize((768, 512))\n",
    "\n",
    "# prompt = \"A fantasy landscape, trending on artstation\"\n",
    "# images = im2im_pipe(prompt=prompt, image=init_image, strength=0.75, guidance_scale=7.5).images\n",
    "# rp.display_image(images[0])\n",
    "import rp\n",
    "import requests\n",
    "import torch\n",
    "from PIL import Image\n",
    "from io import BytesIO\n",
    "\n",
    "from diffusers import StableDiffusionImg2ImgPipeline\n",
    "\n",
    "if not 'im2im_pipe' in dir():\n",
    "    im2im_model_id_or_path = \"runwayml/stable-diffusion-v1-5\"\n",
    "    im2im_pipe = StableDiffusionImg2ImgPipeline.from_pretrained(im2im_model_id_or_path, torch_dtype=torch.float16)\n",
    "    im2im_pipe = im2im_pipe.to(device)\n",
    "def im2im(image, prompt=\"\", strength=.75, guidance_scale=7.5):\n",
    "    # image=rp.resize_image_to_hold(as_numpy_image(image),512,512)\n",
    "    # image=rp.as_pil_image(rp.as_rgb_image(rp.as_byte_image(image)))\n",
    "    rp.rinsp(image)\n",
    "    return im2im_pipe(prompt=prompt, image=image, strength=0.85, guidance_scale=7.5).images[0]\n",
    "\n",
    "im=rp.load_image(url)\n",
    "rp.display_image(im)\n",
    "out=im2im(init_image,\"A fantasy landscape, trending on artstation\")\n",
    "rp.display_image(out)"
   ]
  },
  {
   "cell_type": "code",
   "execution_count": null,
   "id": "f0df9bc5-80c4-462c-9a5a-397ad72140d5",
   "metadata": {},
   "outputs": [],
   "source": []
  }
 ],
 "metadata": {
  "kernelspec": {
   "display_name": "Python dil",
   "language": "python",
   "name": "dil"
  },
  "language_info": {
   "codemirror_mode": {
    "name": "ipython",
    "version": 3
   },
   "file_extension": ".py",
   "mimetype": "text/x-python",
   "name": "python",
   "nbconvert_exporter": "python",
   "pygments_lexer": "ipython3",
   "version": "3.10.13"
  }
 },
 "nbformat": 4,
 "nbformat_minor": 5
}
