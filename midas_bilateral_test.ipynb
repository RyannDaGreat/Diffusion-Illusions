{
 "cells": [
  {
   "cell_type": "code",
   "execution_count": null,
   "id": "7ad2a192-42cf-4ba9-92db-b269dba220d8",
   "metadata": {},
   "outputs": [],
   "source": [
    "import rp\n",
    "import numpy as np\n",
    "from source.midas import MIDAS\n",
    "from source.bilateral_blur import BilateralProxyBlur"
   ]
  },
  {
   "cell_type": "code",
   "execution_count": null,
   "id": "3885ceaf-1ae9-4452-880f-0d4cc3146b8f",
   "metadata": {},
   "outputs": [],
   "source": [
    "device=rp.select_torch_device()\n",
    "midas=MIDAS(device)"
   ]
  },
  {
   "cell_type": "code",
   "execution_count": null,
   "id": "2b9b0ac6-e554-40af-8a8a-6b401cd22f41",
   "metadata": {},
   "outputs": [],
   "source": [
    "image='https://mystjourney.com/img/screenshots/riven-11.jpg'\n",
    "image=rp.load_image(image,use_cache=True)\n",
    "image=rp.as_rgba_image(image)\n",
    "image=rp.as_float_image(image)\n",
    "rp.ic(rp.get_image_dimensions(image))\n",
    "rp.display_image(image)"
   ]
  },
  {
   "cell_type": "code",
   "execution_count": null,
   "id": "3495369c-61f5-453a-97a1-72df05d5eef5",
   "metadata": {},
   "outputs": [],
   "source": [
    "alpha=midas.estimate_depth_map(image)\n",
    "image[:,:,3]=alpha\n",
    "rp.display_image(rp.full_range(alpha))"
   ]
  },
  {
   "cell_type": "code",
   "execution_count": null,
   "id": "5c31fb09-1d53-479d-bfbc-822a61bf40aa",
   "metadata": {},
   "outputs": [],
   "source": [
    "def bilateral_blur(\n",
    "    image,\n",
    "    kernel_image=None,\n",
    "    kernel_size=5,\n",
    "    tolerance=0.08,\n",
    "    sigma=5,\n",
    "    iterations=10,\n",
    "):\n",
    "    if kernel_image is None:\n",
    "        kernel_image = image\n",
    "    assert rp.is_image(image)\n",
    "    assert isinstance(kernel_image, np.ndarray)\n",
    "    assert kernel_image.ndim == 3, \"HWC Form\"\n",
    "\n",
    "    image = rp.as_torch_image(image)\n",
    "    kernel_image = rp.as_torch_image(kernel_image)\n",
    "\n",
    "    image = image.to(device)\n",
    "    kernel_image = kernel_image.to(device)\n",
    "\n",
    "    bilateral_proxy_blur = BilateralProxyBlur(\n",
    "        kernel_image,\n",
    "        kernel_size=kernel_size,\n",
    "        tolerance=tolerance,\n",
    "        sigma=sigma,\n",
    "        iterations=iterations,\n",
    "    )\n",
    "\n",
    "    output = bilateral_proxy_blur(image)\n",
    "    output = rp.as_numpy_image(output)\n",
    "    return output"
   ]
  },
  {
   "cell_type": "code",
   "execution_count": null,
   "id": "6ced4fb3-a353-4ecc-976a-626d35765d4e",
   "metadata": {},
   "outputs": [],
   "source": [
    "def get_kernel_image(image, rgb_scale=.1, depth_scale=1):\n",
    "    assert rp.is_rgba_image(image)\n",
    "    image=image+0\n",
    "    image[:,:,:3]*=rgb_scale\n",
    "    image[:,:,3]*=depth_scale\n",
    "    return image\n",
    "\n",
    "output=bilateral_blur(image,get_kernel_image(image,rgb_scale=.5,depth_scale=2))\n",
    "\n",
    "rp.display_image(output)\n"
   ]
  },
  {
   "cell_type": "code",
   "execution_count": null,
   "id": "12b21e8d-396e-4d63-9d92-d89bd51b4279",
   "metadata": {},
   "outputs": [],
   "source": [
    "device=rp.select_torch_device()\n",
    "def gogogo(url='https://mystjourney.com/img/screenshots/riven-11.jpg'):\n",
    "    import rp\n",
    "    import numpy as np\n",
    "    from source.midas import MIDAS\n",
    "    from source.bilateral_blur import BilateralProxyBlur\n",
    "\n",
    "    midas=MIDAS(device)\n",
    "\n",
    "    image=url\n",
    "    image=rp.load_image(image,use_cache=True)\n",
    "    image=rp.as_rgba_image(image)\n",
    "    image=rp.as_float_image(image)\n",
    "    rp.ic(rp.get_image_dimensions(image))\n",
    "    rp.display_image(image)\n",
    "\n",
    "    alpha=midas.estimate_depth_map(image)\n",
    "    image[:,:,3]=alpha\n",
    "    rp.display_image(rp.full_range(alpha))\n",
    "\n",
    "    def bilateral_blur(\n",
    "        image,\n",
    "        kernel_image=None,\n",
    "        kernel_size=5,\n",
    "        tolerance=0.08,\n",
    "        sigma=5,\n",
    "        iterations=10,\n",
    "    ):\n",
    "        if kernel_image is None:\n",
    "            kernel_image = image\n",
    "        assert rp.is_image(image)\n",
    "        assert isinstance(kernel_image, np.ndarray)\n",
    "        assert kernel_image.ndim == 3, \"HWC Form\"\n",
    "\n",
    "        image = rp.as_torch_image(image)\n",
    "        kernel_image = rp.as_torch_image(kernel_image)\n",
    "\n",
    "        image = image.to(device)\n",
    "        kernel_image = kernel_image.to(device)\n",
    "\n",
    "        bilateral_proxy_blur = BilateralProxyBlur(\n",
    "            kernel_image,\n",
    "            kernel_size=kernel_size,\n",
    "            tolerance=tolerance,\n",
    "            sigma=sigma,\n",
    "            iterations=iterations,\n",
    "        )\n",
    "\n",
    "        output = bilateral_proxy_blur(image)\n",
    "        output = rp.as_numpy_image(output)\n",
    "        return output\n",
    "\n",
    "    def get_kernel_image(image, rgb_scale=.1, depth_scale=1):\n",
    "        assert rp.is_rgba_image(image)\n",
    "        image=image+0\n",
    "        image[:,:,:3]*=rgb_scale\n",
    "        image[:,:,3]*=depth_scale\n",
    "        return image\n",
    "\n",
    "    output=bilateral_blur(image,get_kernel_image(image,rgb_scale=0,depth_scale=1))\n",
    "\n",
    "    rp.display_image(output)\n",
    "\n"
   ]
  },
  {
   "cell_type": "code",
   "execution_count": null,
   "id": "70552676-79ab-419d-8abc-c286668383af",
   "metadata": {},
   "outputs": [],
   "source": [
    "gogogo('https://hips.hearstapps.com/digitalspyuk.cdnds.net/16/25/1466424578-charlie-and-the-chocolate-factory-cast.jpg')"
   ]
  },
  {
   "cell_type": "code",
   "execution_count": null,
   "id": "8d69e207-7651-42da-9ef7-cb1512f7e087",
   "metadata": {},
   "outputs": [],
   "source": []
  }
 ],
 "metadata": {
  "kernelspec": {
   "display_name": "Python 3.10 (sd2_dream)",
   "language": "python",
   "name": "sd2_dream"
  },
  "language_info": {
   "codemirror_mode": {
    "name": "ipython",
    "version": 3
   },
   "file_extension": ".py",
   "mimetype": "text/x-python",
   "name": "python",
   "nbconvert_exporter": "python",
   "pygments_lexer": "ipython3",
   "version": "3.10.11"
  }
 },
 "nbformat": 4,
 "nbformat_minor": 5
}
