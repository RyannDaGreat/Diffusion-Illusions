{
 "cells": [
  {
   "cell_type": "code",
   "execution_count": null,
   "id": "1c2522ea-09f5-400a-8573-f7a18cc94774",
   "metadata": {},
   "outputs": [],
   "source": [
    "%cd /home/xiangli/peekaboo/result_groupvit_voc/"
   ]
  },
  {
   "cell_type": "code",
   "execution_count": null,
   "id": "0b3e2b55-b561-4652-a915-bf40fc57ea02",
   "metadata": {},
   "outputs": [],
   "source": [
    "%ls"
   ]
  },
  {
   "cell_type": "code",
   "execution_count": null,
   "id": "609ff161-0874-4bb2-a0ca-69f099178f19",
   "metadata": {},
   "outputs": [],
   "source": [
    "import rp\n",
    "from IPython.display import display, Image"
   ]
  },
  {
   "cell_type": "code",
   "execution_count": null,
   "id": "a24945b3-3297-43cb-bcd7-83ffd3d37643",
   "metadata": {},
   "outputs": [],
   "source": [
    "for image in map(Image,rp.get_all_image_files()):\n",
    "    display(image)"
   ]
  },
  {
   "cell_type": "code",
   "execution_count": null,
   "id": "890d524b-4386-4016-bd65-84611a6b5a93",
   "metadata": {},
   "outputs": [],
   "source": []
  }
 ],
 "metadata": {
  "kernelspec": {
   "display_name": "Python 3 (ipykernel)",
   "language": "python",
   "name": "python3"
  },
  "language_info": {
   "codemirror_mode": {
    "name": "ipython",
    "version": 3
   },
   "file_extension": ".py",
   "mimetype": "text/x-python",
   "name": "python",
   "nbconvert_exporter": "python",
   "pygments_lexer": "ipython3",
   "version": "3.8.10"
  }
 },
 "nbformat": 4,
 "nbformat_minor": 5
}
