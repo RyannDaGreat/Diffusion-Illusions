{
 "cells": [
  {
   "cell_type": "code",
   "execution_count": null,
   "id": "e0ec7b35-00c7-4ec8-beb3-205a09d1f5d0",
   "metadata": {},
   "outputs": [],
   "source": [
    "from icecream import ic\n",
    "import numpy as np\n",
    "import rp\n",
    "import torch\n",
    "import torch.nn as nn\n",
    "import source.stable_diffusion as sd\n",
    "from easydict import EasyDict\n",
    "from source.learnable_textures import LearnableImageFourier\n",
    "from source.stable_diffusion_labels import NegativeLabel\n",
    "from itertools import chain\n",
    "import time"
   ]
  },
  {
   "cell_type": "code",
   "execution_count": null,
   "id": "8ec33708-ffce-4bcc-8c27-c5b59db20436",
   "metadata": {},
   "outputs": [],
   "source": [
    "#ONLY GOOD PROMPTS HERE\n",
    "example_prompts = rp.load_yaml_file('source/example_prompts.yaml')\n",
    "\n",
    "#These prompts are all strings - you can replace them with whatever you want! By default it lets you choose from example prompts\n",
    "prompt_w, prompt_x, prompt_y, prompt_z = rp.gather(example_prompts, 'miku froggo lipstick pyramids'.split())\n",
    "\n",
    "negative_prompt = ''\n",
    "\n",
    "print('Example prompts:', ', '.join(example_prompts))\n",
    "print()\n",
    "print('Negative prompt:',repr(negative_prompt))\n",
    "print()\n",
    "print('Chosen prompts:')\n",
    "print('    prompt_w =', prompt_w)\n",
    "print('    prompt_x =', prompt_x)\n",
    "print('    prompt_y =', prompt_y)\n",
    "print('    prompt_z =', prompt_z)"
   ]
  },
  {
   "cell_type": "code",
   "execution_count": null,
   "id": "3a3ad4a1-e8b2-4db6-ba6e-cb4da32fb97a",
   "metadata": {},
   "outputs": [],
   "source": [
    "if 's' not in dir():\n",
    "    model_name=\"CompVis/stable-diffusion-v1-4\"\n",
    "    gpu='cuda:0'\n",
    "    s=sd.StableDiffusion(gpu,model_name)\n",
    "device=s.device"
   ]
  },
  {
   "cell_type": "code",
   "execution_count": null,
   "id": "e5707710-66d9-453e-8e56-b031c78d7924",
   "metadata": {},
   "outputs": [],
   "source": [
    "label_w = NegativeLabel(prompt_w,negative_prompt)\n",
    "label_x = NegativeLabel(prompt_x,negative_prompt)\n",
    "label_y = NegativeLabel(prompt_y,negative_prompt)\n",
    "label_z = NegativeLabel(prompt_z,negative_prompt)"
   ]
  },
  {
   "cell_type": "code",
   "execution_count": null,
   "id": "a24d7390-a556-4096-8e7d-7f25a9ed6c71",
   "metadata": {},
   "outputs": [],
   "source": [
    "#Parameters (this section takes vram)\n",
    "\n",
    "#Select Learnable Image Size (this has big VRAM implications!):\n",
    "learnable_image_maker = lambda: LearnableImageFourier(height=256, width=256, hidden_dim=256, num_features=128).to(s.device); SIZE=256\n",
    "# learnable_image_maker = lambda: LearnableImageFourier(height=512,width=512,num_features=256,hidden_dim=256,scale=20).to(s.device);SIZE=512\n",
    "\n",
    "factor_base=learnable_image_maker()\n",
    "factor_rotator=learnable_image_maker()"
   ]
  },
  {
   "cell_type": "code",
   "execution_count": null,
   "id": "fe4974c4-a6ab-4301-9c4d-722ce5976c46",
   "metadata": {},
   "outputs": [],
   "source": [
    "brightness=3\n",
    "\n",
    "CLEAN_MODE = True # If it's False, we augment the images by randomly simulating how good a random printer might be when making the overlays...\n",
    "\n",
    "def simulate_overlay(bottom, top):\n",
    "    if CLEAN_MODE:\n",
    "        exp=1\n",
    "        brightness=3\n",
    "        black=0\n",
    "    else:\n",
    "        exp=rp.random_float(.5,1)\n",
    "        brightness=rp.random_float(1,5)\n",
    "        black=rp.random_float(0,.5)\n",
    "        bottom=rp.blend(bottom,black,rp.random_float())\n",
    "        top=rp.blend(top,black,rp.random_float())\n",
    "    return (bottom**exp * top**exp * brightness).clamp(0,99).tanh()\n",
    "\n",
    "learnable_image_w=lambda: simulate_overlay(factor_base(), factor_rotator().rot90(k=0,dims=[1,2]))\n",
    "learnable_image_x=lambda: simulate_overlay(factor_base(), factor_rotator().rot90(k=1,dims=[1,2]))\n",
    "learnable_image_y=lambda: simulate_overlay(factor_base(), factor_rotator().rot90(k=2,dims=[1,2]))\n",
    "learnable_image_z=lambda: simulate_overlay(factor_base(), factor_rotator().rot90(k=3,dims=[1,2]))\n",
    "\n",
    "\n",
    "params=chain(\n",
    "    factor_base.parameters(),\n",
    "    factor_rotator.parameters(),\n",
    ")\n",
    "optim=torch.optim.SGD(params,lr=1e-4)"
   ]
  },
  {
   "cell_type": "code",
   "execution_count": null,
   "id": "7e698be8-183d-4849-be08-fe950e25ebcc",
   "metadata": {},
   "outputs": [],
   "source": [
    "num=4\n",
    "nums=[0,1,2,3]\n",
    "\n",
    "#Uncommenting one of the lines will disable some of the prompts, in case you don't want to use all four for some reason (like the Summer/Winter example)\n",
    "# nums=[0  ,2,3]\n",
    "# nums=[    2  ]\n",
    "# nums=[0,1,2]\n",
    "# nums=[1]\n",
    "# nums=[0,1]\n",
    "# nums=[0,2]\n",
    "\n",
    "\n",
    "labels=[label_w,label_x,label_y,label_z]\n",
    "learnable_images=[learnable_image_w,learnable_image_x,learnable_image_y,learnable_image_z]\n",
    "\n",
    "#The weight coefficients for each prompt. For example, if we have [0,1,2,1], then prompt_w will provide no influence and prompt_y will have 1/2 the total influence\n",
    "weights=[1,1,1,1]\n",
    "\n",
    "labels=[labels[i] for i in nums]\n",
    "learnable_images=[learnable_images[i] for i in nums]\n",
    "weights=[weights[i] for i in nums]\n",
    "\n",
    "weights=rp.as_numpy_array(weights)\n",
    "weights=weights/weights.sum()\n",
    "weights=weights*len(weights)"
   ]
  },
  {
   "cell_type": "code",
   "execution_count": null,
   "id": "7d428ba1-c415-47dd-9a92-777ae7e5b400",
   "metadata": {},
   "outputs": [],
   "source": [
    "#For saving a timelapse\n",
    "ims=[]"
   ]
  },
  {
   "cell_type": "code",
   "execution_count": null,
   "id": "32657791-6756-4ea0-8509-3f07fdecea67",
   "metadata": {},
   "outputs": [],
   "source": [
    "def get_display_image():\n",
    "    return rp.tiled_images(\n",
    "        [\n",
    "            *[rp.as_numpy_image(image()) for image in learnable_images],\n",
    "            rp.as_numpy_image(factor_base()),\n",
    "            rp.as_numpy_image(factor_rotator()),\n",
    "        ],\n",
    "        length=len(learnable_images),\n",
    "        border_thickness=0,\n",
    "    )"
   ]
  },
  {
   "cell_type": "code",
   "execution_count": null,
   "id": "c1989b01-87c4-4b4f-a330-21c7f0422f72",
   "metadata": {
    "tags": []
   },
   "outputs": [],
   "source": [
    "NUM_ITER=10000\n",
    "\n",
    "#Set the minimum and maximum noise timesteps for the dream loss (aka score distillation loss)\n",
    "s.max_step=MAX_STEP=990\n",
    "s.min_step=MIN_STEP=10 \n",
    "\n",
    "display_eta=rp.eta(NUM_ITER, title='Status: ')\n",
    "\n",
    "DISPLAY_INTERVAL = 200\n",
    "\n",
    "print('Every %i iterations we display an image in the form [[image_w, image_x, image_y, image_z], [bottom_image, top_image]] where')\n",
    "print('    image_w = bottom_image * top_image')\n",
    "print('    image_x = bottom_image * top_image.rot90()')\n",
    "print('    image_y = bottom_image * top_image.rot180()')\n",
    "print('    image_z = bottom_image * top_image.rot270()')\n",
    "print()\n",
    "print('Interrupt the kernel at any time to return the currently displayed image')\n",
    "\n",
    "try:\n",
    "    for iter_num in range(NUM_ITER):\n",
    "        display_eta(iter_num) #Print the remaining time\n",
    "\n",
    "        preds=[]\n",
    "        for label,learnable_image,weight in rp.random_batch(list(zip(labels,learnable_images,weights)),1):\n",
    "            pred=s.train_step(\n",
    "                label.embedding,\n",
    "                learnable_image()[None],\n",
    "\n",
    "                #PRESETS (uncomment one):\n",
    "                noise_coef=.1*weight,guidance_scale=60,#10\n",
    "                # noise_coef=0,image_coef=-.01,guidance_scale=50,\n",
    "                # noise_coef=0,image_coef=-.005,guidance_scale=50,\n",
    "                # noise_coef=.1,image_coef=-.010,guidance_scale=50,\n",
    "                # noise_coef=.1,image_coef=-.005,guidance_scale=50,\n",
    "                # noise_coef=.1*weight, image_coef=-.005*weight, guidance_scale=50,\n",
    "            )\n",
    "            preds+=list(pred)\n",
    "\n",
    "        with torch.no_grad():\n",
    "            if iter_num and not iter_num%(DISPLAY_INTERVAL*50):\n",
    "                #Wipe the slate every 50 displays so they don't get cut off\n",
    "                from IPython.display import clear_output\n",
    "                clear_output()\n",
    "\n",
    "            if not iter_num%DISPLAY_INTERVAL:\n",
    "                im = get_display_image()\n",
    "                ims.append(im)\n",
    "                rp.display_image(im)\n",
    "\n",
    "        optim.step()\n",
    "        optim.zero_grad()\n",
    "except KeyboardInterrupt:\n",
    "    print()\n",
    "    print('Interrupted early at iteration %i'%iter_num)\n",
    "    im = get_display_image()\n",
    "    ims.append(im)\n",
    "    rp.display_image(im)"
   ]
  },
  {
   "cell_type": "code",
   "execution_count": null,
   "id": "b055e526-1178-426b-87c0-5e05550e55a9",
   "metadata": {},
   "outputs": [],
   "source": [
    "print('Bottom image:')\n",
    "rp.display_image(rp.as_numpy_image(factor_base()))\n",
    "\n",
    "print('Top image:')\n",
    "rp.display_image(rp.as_numpy_image(factor_rotator()))"
   ]
  },
  {
   "cell_type": "code",
   "execution_count": null,
   "id": "84b64cea-1a6e-4e2f-a5f9-32c5c38224d8",
   "metadata": {},
   "outputs": [],
   "source": [
    "def save_run(name):\n",
    "    folder=\"untracked/rotator_multiplier_runs/%s\"%name\n",
    "    if rp.path_exists(folder):\n",
    "        folder+='_%i'%time.time()\n",
    "    rp.make_directory(folder)\n",
    "    ims_names=['ims_%04i.png'%i for i in range(len(ims))]\n",
    "    with rp.SetCurrentDirectoryTemporarily(folder):\n",
    "        rp.save_images(ims,ims_names,show_progress=True)\n",
    "    print()\n",
    "    print('Saved timelapse to folder:',repr(folder))\n",
    "    \n",
    "save_run('untitled') #You can give it a good custom name if you want!"
   ]
  }
 ],
 "metadata": {
  "kernelspec": {
   "display_name": "Python 3 (ipykernel)",
   "language": "python",
   "name": "python3"
  },
  "language_info": {
   "codemirror_mode": {
    "name": "ipython",
    "version": 3
   },
   "file_extension": ".py",
   "mimetype": "text/x-python",
   "name": "python",
   "nbconvert_exporter": "python",
   "pygments_lexer": "ipython3",
   "version": "3.8.10"
  }
 },
 "nbformat": 4,
 "nbformat_minor": 5
}
