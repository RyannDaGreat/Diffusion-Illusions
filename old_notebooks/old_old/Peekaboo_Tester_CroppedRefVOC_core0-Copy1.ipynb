{
 "cells": [
  {
   "cell_type": "markdown",
   "metadata": {
    "tags": []
   },
   "source": [
    "# Notebook Core Params"
   ]
  },
  {
   "cell_type": "code",
   "execution_count": null,
   "metadata": {},
   "outputs": [],
   "source": [
    "num_split=1 #Which notebook core is this?\n",
    "num_splits=3 #How many notebooks are running? \n",
    "device_num=2 #Which GPU"
   ]
  },
  {
   "cell_type": "markdown",
   "metadata": {
    "tags": []
   },
   "source": [
    "# Dataset"
   ]
  },
  {
   "cell_type": "code",
   "execution_count": null,
   "metadata": {},
   "outputs": [],
   "source": [
    "import rp\n",
    "from icecream import ic\n",
    "from easydict import EasyDict\n",
    "import copy"
   ]
  },
  {
   "cell_type": "code",
   "execution_count": null,
   "metadata": {},
   "outputs": [],
   "source": [
    "class TestSample:\n",
    "    def __init__(self, image, prompt:str, path:str, name:str):\n",
    "        self.path=rp.get_absolute_path(path)\n",
    "        self.image=image\n",
    "        self.prompt=prompt\n",
    "        self.name=name\n",
    "    \n",
    "    def copy(self):\n",
    "        return copy.copy(self)\n",
    "    \n",
    "    def display(self):\n",
    "        print(self.prompt)\n",
    "        print(self.path)\n",
    "        rp.display_image(self.image)"
   ]
  },
  {
   "cell_type": "code",
   "execution_count": null,
   "metadata": {},
   "outputs": [],
   "source": [
    "class CroppedRefVOCDataset:\n",
    "    \n",
    "    DEFAULT_PROMPT_REPLACEMENTS={\n",
    "        'aeroplane'    : 'aeroplane',\n",
    "        'bicycle'      : 'bicycle',\n",
    "        'bird'         : 'bird',\n",
    "        'boat'         : 'boat',\n",
    "        'bottle'       : 'bottle',\n",
    "        'bus'          : 'bus',\n",
    "        'car'          : 'car',\n",
    "        'cat'          : 'cat',\n",
    "        'chair'        : 'chair',\n",
    "        'cow'          : 'cow',\n",
    "        'dog'          : 'dog',\n",
    "        'horse'        : 'horse',\n",
    "        'motorbike'    : 'motorcycle',\n",
    "        'person'       : 'person',\n",
    "        'potted plant' : 'potted plant',\n",
    "        'sheep'        : 'sheep',\n",
    "        'sofa'         : 'sofa',\n",
    "        'train'        : 'train',\n",
    "        'tv/monitor'   : 'tv/monitor',\n",
    "    }\n",
    "    \n",
    "    def __init__(self, samples=None, prompt_replacements:dict={}):\n",
    "        \n",
    "        #Xiang made this dataset\n",
    "        dataset_dir='/mnt/md0/nfs/datasets/RefVOC'\n",
    "        self.dataset_dir = dataset_dir\n",
    "        \n",
    "        if samples is None:\n",
    "            with rp.SetCurrentDirectoryTemporarily(dataset_dir):\n",
    "                image_names=rp.text_file_to_string('refvoc_files.txt').strip().splitlines()\n",
    "                #It has a bunch of lines that look like '2008_003885\\n2008_004212\\n2008_004612\\n2008_004621' etc\n",
    "                image_paths=['cropped-'+x+'.jpg' for x in image_names]\n",
    "                #These files should exist in the current directory\n",
    "                images=rp.load_images(image_paths, use_cache=True, show_progress=True)\n",
    "\n",
    "                assert all(rp.is_image_file(x) for x in image_paths)\n",
    "\n",
    "                #Get the prompts for every image\n",
    "                prompts=rp.text_file_to_string('cropped.txt').strip().splitlines()\n",
    "                #It has a bunch of lines that look like '2010_000241 bird\\n2010_000342 bicycle\\n2010_000628 car' etc\n",
    "                prompts=[x.split(maxsplit=1) for x in prompts]\n",
    "                prompts={image_name:prompt for image_name,prompt in prompts}\n",
    "                prompts=[prompts[image_name] for image_name in image_names]\n",
    "\n",
    "                samples=[TestSample(image,prompt,path,name) for image,prompt,path,name in zip(images,prompts,image_paths,image_names)]\n",
    "\n",
    "        #Replace the given prompts\n",
    "        prompt_replacements = {**type(self).DEFAULT_PROMPT_REPLACEMENTS, **prompt_replacements}\n",
    "        prompt_replacements = {x:y for x,y in prompt_replacements.items() if x!=y} #Remove redundancy\n",
    "                \n",
    "        for sample in samples:\n",
    "            if sample.prompt in prompt_replacements:\n",
    "                sample.prompt = prompt_replacements[sample.prompt]\n",
    "        self.prompt_replacements=prompt_replacements\n",
    "        \n",
    "        self.samples = samples\n",
    "        \n",
    "    @property\n",
    "    def images(self): return [s.image for s in self.samples]\n",
    "        \n",
    "    @property\n",
    "    def prompts(self): return [s.prompt for s in self.samples]\n",
    "\n",
    "    @property\n",
    "    def names(self): return [s.name for s in self.samples]\n",
    "\n",
    "    @property\n",
    "    def image_paths(self): return [s.image_path for s in self.samples]\n",
    "\n",
    "    def __getitem__(self, index):\n",
    "        output = self.samples[index]\n",
    "        if isinstance(index, int):\n",
    "            return output\n",
    "        elif isinstance(index, slice):\n",
    "            output = CroppedRefVOCDataset(output)\n",
    "        return output\n",
    "            \n",
    "    def split(self, num_divisions, division_index):\n",
    "        \"\"\"\n",
    "        Split the dataset into num_divisions parts and return the division_index part.\n",
    "        \n",
    "        num_divisions: An integer representing the number of equal parts to divide the dataset into.\n",
    "        division_index: An integer representing the 0-indexed part to return.\n",
    "        \"\"\"\n",
    "        division_size = len(self) // num_divisions\n",
    "        start_index = division_size * division_index\n",
    "        end_index = start_index + division_size\n",
    "        if division_index == num_divisions - 1:\n",
    "            end_index = len(self)\n",
    "        return self[start_index:end_index]\n",
    "    \n",
    "    def __len__(self):\n",
    "        return len(self.samples)\n",
    "\n",
    "    def __iter__(self):\n",
    "        return iter(self.samples)\n",
    "    \n",
    "    def __repr__(self):\n",
    "        return f'CroppedRefVOCDataset(len={len(self)}, prompt_replacements={self.prompt_replacements})'"
   ]
  },
  {
   "cell_type": "code",
   "execution_count": null,
   "metadata": {},
   "outputs": [],
   "source": [
    "cropped_ref_voc_dataset=CroppedRefVOCDataset()\n",
    "data=cropped_ref_voc_dataset.split(num_splits,num_split)"
   ]
  },
  {
   "cell_type": "code",
   "execution_count": null,
   "metadata": {},
   "outputs": [],
   "source": [
    "data[3:4]"
   ]
  },
  {
   "cell_type": "code",
   "execution_count": null,
   "metadata": {},
   "outputs": [],
   "source": [
    "rp.random_element(data).display()"
   ]
  },
  {
   "cell_type": "code",
   "execution_count": null,
   "metadata": {},
   "outputs": [],
   "source": [
    "rp.random_element(data)"
   ]
  },
  {
   "cell_type": "code",
   "execution_count": null,
   "metadata": {},
   "outputs": [],
   "source": [
    "rp.local_copy(data)"
   ]
  },
  {
   "cell_type": "code",
   "execution_count": null,
   "metadata": {},
   "outputs": [],
   "source": [
    "data.__iter__"
   ]
  },
  {
   "cell_type": "markdown",
   "metadata": {},
   "source": [
    "# Peekaboo"
   ]
  },
  {
   "cell_type": "code",
   "execution_count": null,
   "metadata": {},
   "outputs": [],
   "source": [
    "import source.stable_diffusion as sd\n",
    "if 's' not in dir():\n",
    "    s=sd.StableDiffusion(device=device_num) #Initialize the singleton"
   ]
  },
  {
   "cell_type": "code",
   "execution_count": null,
   "metadata": {
    "id": "ujL4Q8IHPhm0",
    "tags": []
   },
   "outputs": [],
   "source": [
    "import rp\n",
    "import source.peekaboo as peekaboo\n",
    "from source.peekaboo import run_peekaboo\n",
    "from source.clip import get_clip_logits\n",
    "from source.stable_diffusion_labels import get_mean_embedding, BaseLabel, SimpleLabel, MeanLabel\n",
    "import torch\n",
    "torch.cuda.set_device(device_num)"
   ]
  },
  {
   "cell_type": "code",
   "execution_count": null,
   "metadata": {
    "colab": {
     "base_uri": "https://localhost:8080/",
     "height": 1000
    },
    "id": "9Sgqq2J32Qzs",
    "outputId": "eee9073d-e09f-49ca-ca1a-5bb8b8d5e19c"
   },
   "outputs": [],
   "source": [
    "#Mario vs Luigi Part 1\n",
    "results_collection=[]"
   ]
  },
  {
   "cell_type": "code",
   "execution_count": null,
   "metadata": {},
   "outputs": [],
   "source": [
    "def get_clip_logits_per_image(prompt, images):\n",
    "    return [get_clip_logits(image, [prompt])[0] for image in images]\n",
    "\n",
    "def random_colors(length=100):\n",
    "    return [rp.random_rgb_float_color() for _ in range(length)]\n",
    "\n",
    "def get_score(foreground, alpha, prompt:str, colors:list):\n",
    "    \n",
    "    alpha=alpha>.5\n",
    "    rp.display_image(rp.blend_images(rp.random_rgb_float_color(),rp.cv_resize_image(foreground,rp.get_image_dimensions(alpha)),alpha))\n",
    "    alpha=rp.cv_dilate(alpha,5,circular=True)\n",
    "    \n",
    "    assert rp.is_image(foreground) and rp.is_image(alpha)\n",
    "    images = [rp.blend_images(foreground, color, alpha) for color in colors]\n",
    "    scores = get_clip_logits_per_image(prompt, images)\n",
    "    score = rp.mean(scores)\n",
    "    return score"
   ]
  },
  {
   "cell_type": "code",
   "execution_count": null,
   "metadata": {},
   "outputs": [],
   "source": [
    "def ranked_results(results):\n",
    "    colors = random_colors()\n",
    "    def score(result):\n",
    "        output = get_score(foreground = result.image,\n",
    "                         alpha = result.alphas[0],\n",
    "                         prompt = result.p_name,\n",
    "                         colors = colors,\n",
    "                        )\n",
    "        print(output)\n",
    "        return output\n",
    "    scores = list(map(score,results))\n",
    "    scores, results = rp.sync_sort(scores, results)\n",
    "    \n",
    "    #First is best\n",
    "    scores, results = scores[::-1], results[::-1]\n",
    "    \n",
    "    return scores, results\n",
    "\n",
    "def display_ranked_results(scores, results):\n",
    "    for score, result in zip(scores, results):\n",
    "        rp.display_image(\n",
    "            rp.labeled_image(\n",
    "                rp.horizontally_concatenated_images(\n",
    "                    rp.cv_resize_image(result.image, (256, 256)), result.alphas[0]\n",
    "                ),\n",
    "                \"%s : %f\" % (result.p_name, score),\n",
    "            )\n",
    "        )"
   ]
  },
  {
   "cell_type": "code",
   "execution_count": null,
   "metadata": {},
   "outputs": [],
   "source": [
    "thumbnails=[]\n",
    "def get_result_thumbnail(results):\n",
    "    alpha, image = results.alphas[0], results.image\n",
    "    height = width = 512 \n",
    "    image = rp.cv_resize_image(image, (height, width))\n",
    "    alpha = rp.cv_resize_image(alpha, (height, width),interp='nearest')\n",
    "    method = \" + \".join(\n",
    "        [\n",
    "            *([\"CLIP\"] if results.clip_coef else []),\n",
    "            *([\"StableDreamLoss\"] if results.use_stable_dream_loss else []),\n",
    "        ]\n",
    "    )\n",
    "    path = rp.get_relative_path(results.output_folder)\n",
    "    name = results.p_name\n",
    "    settings=[\n",
    "        'representation',\n",
    "        'LEARNING_RATE',\n",
    "        'NUM_ITER',\n",
    "        'GRAVITY',\n",
    "        'clip_coef',\n",
    "        'use_stable_dream_loss',\n",
    "        'GUIDANCE_SCALE',\n",
    "        'min_step',\n",
    "        'max_step',\n",
    "        'clip_coef',\n",
    "    ]\n",
    "    settings=[x+': '+str(results[x]) for x in settings]\n",
    "    \n",
    "    \n",
    "    text=rp.line_join([name, ' ', method, ' ', path, '', 'Settings:',*settings])\n",
    "    text=rp.wrap_string_to_width(text,60)\n",
    "    text = rp.cv_text_to_image(text,monospace=False)\n",
    "    text = rp.resize_image_to_fit(text, height, width)\n",
    "    image=rp.horizontally_concatenated_images(image,alpha,text)\n",
    "    \n",
    "    out_dir='thumbnails_data6'\n",
    "    rp.make_directory(out_dir)\n",
    "    out_name='%s ____ %s ____ %i.png'%(method, name,len(rp.get_all_files(out_dir)))\n",
    "    out_path=rp.path_join(out_dir,out_name)\n",
    "    rp.save_image(image,out_path)\n",
    "    \n",
    "    thumbnails.append(image)\n",
    "    rp.display_image(image)\n",
    "    return image"
   ]
  },
  {
   "cell_type": "code",
   "execution_count": null,
   "metadata": {},
   "outputs": [],
   "source": [
    "experiment_input_data = [\n",
    "    [ [x.prompt], [x.path] , x] for x in data.samples\n",
    "]"
   ]
  },
  {
   "cell_type": "code",
   "execution_count": null,
   "metadata": {
    "colab": {
     "base_uri": "https://localhost:8080/",
     "height": 1000
    },
    "id": "9Sgqq2J32Qzs",
    "outputId": "eee9073d-e09f-49ca-ca1a-5bb8b8d5e19c"
   },
   "outputs": [],
   "source": [
    "experiment_setting_presets = {\n",
    "    'clip_raster_bilateral':dict(\n",
    "        representation=\"raster bilateral\",\n",
    "        LEARNING_RATE=1e-0,\n",
    "        # NUM_ITER=500,\n",
    "        GRAVITY=0.05,\n",
    "        clip_coef=500,\n",
    "        use_stable_dream_loss=False,\n",
    "    ),\n",
    "    'raster_bilateral':dict( #This one is also good!\n",
    "        representation=\"raster bilateral\",\n",
    "        LEARNING_RATE=1e-0,\n",
    "        GUIDANCE_SCALE=200,\n",
    "        # NUM_ITER=500,\n",
    "        GRAVITY=0.05,\n",
    "        # min_step=10,\n",
    "        # max_step=600,\n",
    "    ),\n",
    "    # dict(\n",
    "    #     representation=\"raster bilateral\",\n",
    "    #     LEARNING_RATE=1e-0,\n",
    "    #     GUIDANCE_SCALE=200,\n",
    "    #     # NUM_ITER=500,\n",
    "    #     GRAVITY=0.05,\n",
    "    #     min_step=200,\n",
    "    #     max_step=400,\n",
    "    # ),\n",
    "    # dict(\n",
    "    #     representation=\"raster bilateral\",\n",
    "    #     LEARNING_RATE=1e-0,\n",
    "    #     # NUM_ITER=500,\n",
    "    #     GRAVITY=0.05,\n",
    "    #     clip_coef=500,\n",
    "    #     use_stable_dream_loss=True,\n",
    "    #     GUIDANCE_SCALE=200,\n",
    "    #     min_step=10,\n",
    "    #     max_step=600,\n",
    "    # ),\n",
    "    # dict(NUM_ITER=500),\n",
    "    'pure_fourier':dict(representation=\"fourier\"),\n",
    "    'default':dict(),\n",
    "    'pure_raster':dict(representation=\"raster\", LEARNING_RATE=1, GUIDANCE_SCALE=200,GRAVITY=.1),\n",
    "}"
   ]
  },
  {
   "cell_type": "code",
   "execution_count": null,
   "metadata": {
    "colab": {
     "base_uri": "https://localhost:8080/",
     "height": 1000
    },
    "id": "9Sgqq2J32Qzs",
    "outputId": "eee9073d-e09f-49ca-ca1a-5bb8b8d5e19c"
   },
   "outputs": [],
   "source": [
    "# experiment_setting_presets=[dict()]\n",
    "\n",
    "things_to_try=[]\n",
    "\n",
    "for prompts, urls, sample in rp.shuffled(experiment_input_data):\n",
    "    for prompt in prompts:\n",
    "        for url in urls:\n",
    "            things_to_try.append([prompt,url,sample])\n",
    "\n",
    "i=0\n",
    "while True:\n",
    "    # things_to_try=rp.shuffled(things_to_try)\n",
    "    for prompt,url,sample in things_to_try:\n",
    "        sample_name=sample.name\n",
    "        for preset_name,preset in experiment_setting_presets.items():\n",
    "            i+=1\n",
    "            rp.fansi_print('EXPERIMENT NUMBER: %i'%i,'green','bold')\n",
    "            rp.fansi_print(preset_name,'green','bold')\n",
    "            rp.fansi_print(sample_name,'green','bold')\n",
    "\n",
    "            rp.ic(prompt,url,preset)\n",
    "\n",
    "            results = run_peekaboo(\n",
    "                name=sample_name+'.'+prompt+'.'+preset_name,\n",
    "                label=SimpleLabel(prompt),\n",
    "                image=url,\n",
    "                **preset,\n",
    "            )\n",
    "\n",
    "            get_result_thumbnail(results)"
   ]
  },
  {
   "cell_type": "markdown",
   "metadata": {
    "tags": []
   },
   "source": [
    "# OTHER STUFF"
   ]
  },
  {
   "cell_type": "code",
   "execution_count": null,
   "metadata": {
    "colab": {
     "base_uri": "https://localhost:8080/",
     "height": 1000
    },
    "id": "9Sgqq2J32Qzs",
    "outputId": "eee9073d-e09f-49ca-ca1a-5bb8b8d5e19c"
   },
   "outputs": [],
   "source": [
    "results=run_peekaboo(\n",
    "    # 'Green Luigi',\n",
    "    # \"https://i1.sndcdn.com/artworks-000160550668-iwxjgo-t500x500.jpg\",\n",
    "\n",
    "\n",
    "    # 'orange basketball',\n",
    "    # 'brown american football',\n",
    "    # 'black and white soccer ball on the bottom right',\n",
    "    # 'https://m.media-amazon.com/images/I/711pmt372VL.jpg',\n",
    "    \n",
    "    'Beverly Crusher',\n",
    "    # 'https://www.google.com/url?sa=i&url=https%3A%2F%2Fmemory-alpha.fandom.com%2Fwiki%2FBeverly_Crusher&psig=AOvVaw2_2z0ZVduCSQH1zpoNfPlY&ust=1675160497935000&source=images&cd=vfe&ved=0CA8QjRxqFwoTCNDkx6qJ7_wCFQAAAAAdAAAAABAE',\n",
    "    'https://imgix.bustle.com/uploads/image/2020/6/30/5a0a61e2-5518-4bb9-b8ea-66e3b3986ad7-picard-cruhser.jpg?w=349&h=262&fit=max&auto=format%2Ccompress',\n",
    "    \n",
    "    # 'Harry Potter boy - daniel radcliffe - man with glasses',\n",
    "    # 'Hermoine Granger - Emma Watson - Girl with long hair',\n",
    "    # 'Hermoine',\n",
    "     # \"https://assets.teenvogue.com/photos/569e7d2a74da98670ff0ce1c/1:1/w_2159,h_2159,c_limit/MCDHAPO_EC797_H.JPG\",\n",
    "     # \"https://i.guim.co.uk/img/media/380500f7fd9321a6cfd1bd1a3b3f104ad9797bb7/0_0_2000_1199/master/2000.jpg?width=1200&height=1200&quality=85&auto=format&fit=crop&s=f0d0ecb5a0c33aa91be270b08619e8d7\",\n",
    "    \n",
    "    # 'Dory the fish',\n",
    "    # 'https://akns-images.eonline.com/eol_images/Entire_Site/2016917/rs_600x600-161017135949-600.finding-dory-2.101716.jpg',\n",
    "\n",
    "    # 'brass shiny saxophone on top',\n",
    "     # \"https://c8.alamy.com/comp/2GFDH27/violin-with-saxophone-and-piano-closeup-2GFDH27.jpg\",\n",
    "\n",
    "    #Just CLIP\n",
    "    # representation='raster bilateral', LEARNING_RATE=1e-1, NUM_ITER=500,  GRAVITY=.15, clip_coef=5000, use_stable_dream_loss=False,\n",
    "    # representation='raster bilateral', LEARNING_RATE=1e-1, NUM_ITER=500,  GRAVITY=.05, clip_coef=3000, use_stable_dream_loss=False,\n",
    "    # representation='raster bilateral', LEARNING_RATE=1e-0, NUM_ITER=500,  GRAVITY=.05, clip_coef=500, use_stable_dream_loss=False, #BEST\n",
    "    \n",
    "    #Just DL\n",
    "     # representation='raster bilateral', LEARNING_RATE=1e-0, GUIDANCE_SCALE=200, NUM_ITER=500,  GRAVITY=.05, min_step=10, max_step=600,\n",
    "\n",
    "    #Both\n",
    "    representation='raster bilateral', LEARNING_RATE=1e-0, NUM_ITER=500,  GRAVITY=.05, clip_coef=500, use_stable_dream_loss=True, GUIDANCE_SCALE=200, min_step=10, max_step=600,\n",
    ")"
   ]
  },
  {
   "cell_type": "code",
   "execution_count": null,
   "metadata": {},
   "outputs": [],
   "source": [
    "results.output_folder"
   ]
  },
  {
   "cell_type": "code",
   "execution_count": null,
   "metadata": {
    "colab": {
     "base_uri": "https://localhost:8080/",
     "height": 1000
    },
    "id": "9Sgqq2J32Qzs",
    "outputId": "eee9073d-e09f-49ca-ca1a-5bb8b8d5e19c"
   },
   "outputs": [],
   "source": [
    "#Mario vs Luigi Part 1\n",
    "# peekaboo.s.min_step, peekaboo.s.max_step=200,600\n",
    "results=run_peekaboo(\n",
    "    # 'Green Luigi',\n",
    "    # \"https://i1.sndcdn.com/artworks-000160550668-iwxjgo-t500x500.jpg\",\n",
    "\n",
    "\n",
    "    # 'orange basketball',\n",
    "    # 'brown american football',\n",
    "    'black and white soccer ball on the bottom right',\n",
    "    'https://m.media-amazon.com/images/I/711pmt372VL.jpg',\n",
    "    \n",
    "    # 'Harry Potter boy - daniel radcliffe - man with glasses',\n",
    "    # 'Hermoine Granger - Emma Watson - Girl with long hair',\n",
    "    # 'Hermoine',\n",
    "     # \"https://assets.teenvogue.com/photos/569e7d2a74da98670ff0ce1c/1:1/w_2159,h_2159,c_limit/MCDHAPO_EC797_H.JPG\",\n",
    "     # \"https://i.guim.co.uk/img/media/380500f7fd9321a6cfd1bd1a3b3f104ad9797bb7/0_0_2000_1199/master/2000.jpg?width=1200&height=1200&quality=85&auto=format&fit=crop&s=f0d0ecb5a0c33aa91be270b08619e8d7\",\n",
    "    \n",
    "    # 'Dory the fish',\n",
    "    # 'https://akns-images.eonline.com/eol_images/Entire_Site/2016917/rs_600x600-161017135949-600.finding-dory-2.101716.jpg',\n",
    "\n",
    "    # 'brass shiny saxophone on top',\n",
    "     # \"https://c8.alamy.com/comp/2GFDH27/violin-with-saxophone-and-piano-closeup-2GFDH27.jpg\",\n",
    "\n",
    "    #Just CLIP\n",
    "    # representation='raster bilateral', LEARNING_RATE=1e-1, NUM_ITER=500,  GRAVITY=.15, clip_coef=5000, use_stable_dream_loss=False,\n",
    "    # representation='raster bilateral', LEARNING_RATE=1e-1, NUM_ITER=500,  GRAVITY=.05, clip_coef=3000, use_stable_dream_loss=False,\n",
    "    # representation='raster bilateral', LEARNING_RATE=1e-0, NUM_ITER=500,  GRAVITY=.05, clip_coef=500, use_stable_dream_loss=False, #BEST\n",
    "    \n",
    "    #Just DL\n",
    "     # representation='raster bilateral', LEARNING_RATE=1e-0, GUIDANCE_SCALE=200, NUM_ITER=500,  GRAVITY=.05, min_step=10, max_step=600,\n",
    "\n",
    "    #Both\n",
    "    representation='raster bilateral', LEARNING_RATE=1e-0, NUM_ITER=500,  GRAVITY=.05, clip_coef=500, use_stable_dream_loss=True, GUIDANCE_SCALE=200, min_step=10, max_step=600,\n",
    ")"
   ]
  },
  {
   "cell_type": "code",
   "execution_count": null,
   "metadata": {
    "colab": {
     "base_uri": "https://localhost:8080/",
     "height": 1000
    },
    "id": "9Sgqq2J32Qzs",
    "outputId": "eee9073d-e09f-49ca-ca1a-5bb8b8d5e19c"
   },
   "outputs": [],
   "source": [
    "peekaboo.s.min_step=200\n",
    "peekaboo.s.max_step=600\n",
    "\n",
    "#Mario vs Luigi Part 1\n",
    "results=run_peekaboo(\n",
    "    # 'Luigi', #200/600\n",
    "    # 'Princess Peach', #200/600H, \n",
    "    # 'Mario',\n",
    "    # 'Bowser from super smash bros; yellow shell; seen from the front', #NO; stable diffusion is too weak to draw this - or I have bad prompts\n",
    "    \n",
    "    \n",
    "                     # \"https://i1.sndcdn.com/artworks-000160550668-iwxjgo-t500x500.jpg\",\n",
    "                     # \"http://images6.fanpop.com/image/photos/43400000/Mario-Peach-super-mario-bros-43431011-644-704.png\",\n",
    "                                         \n",
    "                     # bilateral_kwargs=dict(kernel_size = 3,\n",
    "                     #                  tolerance = .08,\n",
    "                     #                  sigma = 5,\n",
    "                     #                  iterations=2,\n",
    "                     #                 ),\n",
    "                     # representation='raster',\n",
    "    \n",
    "                     representation='raster bilateral', LEARNING_RATE=1e-0, GUIDANCE_SCALE=200, NUM_ITER=500,  GRAVITY=.05,\n",
    "                     )"
   ]
  },
  {
   "cell_type": "code",
   "execution_count": null,
   "metadata": {
    "colab": {
     "base_uri": "https://localhost:8080/",
     "height": 1000
    },
    "id": "9Sgqq2J32Qzs",
    "outputId": "eee9073d-e09f-49ca-ca1a-5bb8b8d5e19c"
   },
   "outputs": [],
   "source": [
    "for _ in range(10):\n",
    "    results=run_peekaboo('Luigi',\n",
    "                         \"https://i1.sndcdn.com/artworks-000160550668-iwxjgo-t500x500.jpg\",\n",
    "                         representation='raster bilateral', LEARNING_RATE=1e-0, GUIDANCE_SCALE=200, GRAVITY=.05,\n",
    "                         min_step=200,\n",
    "                         max_step=400,\n",
    "                         NUM_ITER=100,\n",
    "                         )\n",
    "    results_collection.append(results)\n",
    "\n"
   ]
  },
  {
   "cell_type": "code",
   "execution_count": null,
   "metadata": {},
   "outputs": [],
   "source": [
    "#Mario vs Luigi Part 2\n",
    "results=run_peekaboo('Luigi',\n",
    "                     \"https://i1.sndcdn.com/artworks-000160550668-iwxjgo-t500x500.jpg\",\n",
    "                     )"
   ]
  },
  {
   "cell_type": "code",
   "execution_count": null,
   "metadata": {
    "colab": {
     "base_uri": "https://localhost:8080/",
     "height": 1000
    },
    "id": "QWGA9wjKPp6S",
    "outputId": "b9a1bde6-08b7-4336-a98b-9eda0bc762ea"
   },
   "outputs": [],
   "source": [
    "#Mario vs Luigi Part 2\n",
    "label = peekaboo.SimpleLabel('Luigi')\n",
    "blend_factor=.5\n",
    "label.embedding = label.embedding*(1+blend_factor) - peekaboo.SimpleLabel('Mario').embedding*blend_factor\n",
    "results=run_peekaboo('Luigi',\n",
    "                     \"https://i1.sndcdn.com/artworks-000160550668-iwxjgo-t500x500.jpg\",\n",
    "                     label=label\n",
    "                     )"
   ]
  },
  {
   "cell_type": "code",
   "execution_count": null,
   "metadata": {
    "colab": {
     "base_uri": "https://localhost:8080/",
     "height": 1000
    },
    "id": "WsaoICr3PskD",
    "outputId": "e08dccb8-390b-489e-dcfc-d022c4f27f54"
   },
   "outputs": [],
   "source": [
    "peekaboo.s.min_step,peekaboo.s.max_step=200,400\n",
    "#Wine and Cheese Part 1\n",
    "results=run_peekaboo('Wine Glass half-full',\n",
    "                     \"https://emeraldvalleyartisans.com/wp-content/uploads/2015/10/winecheese1.jpg\",\n",
    "                     representation='raster bilateral', LEARNING_RATE=1e-0, GUIDANCE_SCALE=200, NUM_ITER=500,  GRAVITY=.05,\n",
    "                     )"
   ]
  },
  {
   "cell_type": "code",
   "execution_count": null,
   "metadata": {
    "colab": {
     "base_uri": "https://localhost:8080/",
     "height": 1000
    },
    "id": "WsaoICr3PskD",
    "outputId": "e08dccb8-390b-489e-dcfc-d022c4f27f54"
   },
   "outputs": [],
   "source": [
    "peekaboo.s.min_step,peekaboo.s.max_step=200,600\n",
    "#Wine and Cheese Part 1\n",
    "results=run_peekaboo('Wine Glass half-full',\n",
    "                     'Swiss Cheese',\n",
    "                     'Grapes',\n",
    "                     'Green Grapes',\n",
    "                     \"https://emeraldvalleyartisans.com/wp-content/uploads/2015/10/winecheese1.jpg\",\n",
    "                     representation='raster bilateral', LEARNING_RATE=1e-0, GUIDANCE_SCALE=200, NUM_ITER=500,  GRAVITY=.05,\n",
    "                     )"
   ]
  },
  {
   "cell_type": "code",
   "execution_count": null,
   "metadata": {},
   "outputs": [],
   "source": [
    "peekaboo.s.min_step,peekaboo.s.max_step=200,400\n",
    "#Wine and Cheese Part 2\n",
    "results=run_peekaboo('Swiss Cheese',\n",
    "                     \"https://emeraldvalleyartisans.com/wp-content/uploads/2015/10/winecheese1.jpg\",\n",
    "                     representation='raster bilateral', LEARNING_RATE=1e-0, GUIDANCE_SCALE=200, NUM_ITER=500,  GRAVITY=.05,\n",
    "                     )"
   ]
  },
  {
   "cell_type": "code",
   "execution_count": null,
   "metadata": {},
   "outputs": [],
   "source": [
    "peekaboo.s.min_step,peekaboo.s.max_step=200,600\n",
    "#Wine and Cheese Part 2\n",
    "results=run_peekaboo('Swiss Cheese',\n",
    "                     \"https://emeraldvalleyartisans.com/wp-content/uploads/2015/10/winecheese1.jpg\",\n",
    "                     representation='raster bilateral', LEARNING_RATE=1e-0, GUIDANCE_SCALE=200, NUM_ITER=500,  GRAVITY=.05,\n",
    "                     )"
   ]
  },
  {
   "cell_type": "code",
   "execution_count": null,
   "metadata": {},
   "outputs": [],
   "source": [
    "# https://americasrestaurant.com/wp-content/uploads/2022/04/what-do-bread-and-butter-pickles-taste-like.jpg\n",
    "peekaboo.s.min_step,peekaboo.s.max_step=200,600\n",
    "#Wine and Cheese Part 3\n",
    "results=run_peekaboo(\n",
    "    # 'piano keyboard',\n",
    "    # 'violin',\n",
    "    'brass shiny saxophone on top',\n",
    "                     \"https://c8.alamy.com/comp/2GFDH27/violin-with-saxophone-and-piano-closeup-2GFDH27.jpg\",\n",
    "                     # representation='raster bilateral', LEARNING_RATE=1e-0, GUIDANCE_SCALE=200, NUM_ITER=500,  GRAVITY=.05,\n",
    "                     )"
   ]
  },
  {
   "cell_type": "code",
   "execution_count": null,
   "metadata": {},
   "outputs": [],
   "source": [
    "for _ in range(10):\n",
    "    results=run_peekaboo(\n",
    "        'Nemo Clownfish',\n",
    "        'https://akns-images.eonline.com/eol_images/Entire_Site/2016917/rs_600x600-161017135949-600.finding-dory-2.101716.jpg',\n",
    "        representation='raster bilateral', LEARNING_RATE=1e-0, GUIDANCE_SCALE=200,\n",
    "        min_step=200, max_step=600,\n",
    "        GRAVITY=.05,\n",
    "        NUM_ITER=200,\n",
    "    )\n",
    "    results_collection.append(results)"
   ]
  },
  {
   "cell_type": "code",
   "execution_count": null,
   "metadata": {},
   "outputs": [],
   "source": [
    "for _ in range(10):\n",
    "    results=run_peekaboo(\n",
    "        'brass shiny saxophone on top',\n",
    "        \"https://c8.alamy.com/comp/2GFDH27/violin-with-saxophone-and-piano-closeup-2GFDH27.jpg\",\n",
    "        representation='raster bilateral',\n",
    "        LEARNING_RATE=1e-0,\n",
    "        GUIDANCE_SCALE=200,\n",
    "        min_step=200,\n",
    "        max_step=900,\n",
    "        GRAVITY=.05,\n",
    "        NUM_ITER=200,\n",
    "    )\n",
    "    results_collection.append(results)"
   ]
  },
  {
   "cell_type": "code",
   "execution_count": null,
   "metadata": {},
   "outputs": [],
   "source": []
  },
  {
   "cell_type": "code",
   "execution_count": null,
   "metadata": {},
   "outputs": [],
   "source": [
    "peekaboo.s.min_step,peekaboo.s.max_step=200,400\n",
    "#Wine and Cheese Part 3\n",
    "results=run_ipeekaboo('grapes',\n",
    "                     \"https://emeraldvalleyartisans.com/wp-content/uploads/2015/10/winecheese1.jpg\",\n",
    "                     representation='raster bilateral', LEARNING_RATE=1e-0, GUIDANCE_SCALE=200, NUM_ITER=500,  GRAVITY=.05,\n",
    "                     )"
   ]
  },
  {
   "cell_type": "code",
   "execution_count": null,
   "metadata": {},
   "outputs": [],
   "source": [
    "peekaboo.s.min_step,peekaboo.s.max_step=200,600\n",
    "#Wine and Cheese Part 3\n",
    "results=run_peekaboo('Green grapes',\n",
    "                     \"https://emeraldvalleyartisans.com/wp-content/uploads/2015/10/winecheese1.jpg\",\n",
    "                     representation='raster bilateral', LEARNING_RATE=1e-0, GUIDANCE_SCALE=200, NUM_ITER=500,  GRAVITY=.05,\n",
    "                     )"
   ]
  },
  {
   "cell_type": "code",
   "execution_count": null,
   "metadata": {
    "colab": {
     "background_save": true
    },
    "id": "aED-B2o-Wi8y",
    "outputId": "cce88287-a40e-4b2d-a20d-c3faa0a7fa64"
   },
   "outputs": [],
   "source": [
    "#Harry Potter Part 1\n",
    "results=run_peekaboo('Harry Potter boy - daniel radcliffe - man with glasses',\n",
    "                     \"https://assets.teenvogue.com/photos/569e7d2a74da98670ff0ce1c/1:1/w_2159,h_2159,c_limit/MCDHAPO_EC797_H.JPG\",\n",
    "                     NUM_ITER=300\n",
    "                    )"
   ]
  },
  {
   "cell_type": "code",
   "execution_count": null,
   "metadata": {},
   "outputs": [],
   "source": [
    "#Harry Potter Part 2\n",
    "label = peekaboo.SimpleLabel('Hermoine Granger')\n",
    "blend_factor=.5\n",
    "label.embedding = label.embedding*(1+blend_factor) - peekaboo.SimpleLabel('Harry Potter').embedding*blend_factor\n",
    "results=run_peekaboo('Hermoine',\n",
    "                     \"https://assets.teenvogue.com/photos/569e7d2a74da98670ff0ce1c/1:1/w_2159,h_2159,c_limit/MCDHAPO_EC797_H.JPG\",\n",
    "                     label=label\n",
    "                     )\n"
   ]
  },
  {
   "cell_type": "code",
   "execution_count": null,
   "metadata": {},
   "outputs": [],
   "source": [
    "#Harry Potter Part 2\n",
    "label = peekaboo.SimpleLabel('Hermoine Granger - Emma Watson - Girl with long hair')\n",
    "blend_factor=.5\n",
    "label.embedding = label.embedding*(1+blend_factor) - peekaboo.SimpleLabel('Harry Potter boy - daniel radcliffe - man with glasses').embedding*blend_factor\n",
    "\n",
    "results=run_peekaboo('Hermoine',\n",
    "                     \"https://assets.teenvogue.com/photos/569e7d2a74da98670ff0ce1c/1:1/w_2159,h_2159,c_limit/MCDHAPO_EC797_H.JPG\",\n",
    "                     label=label\n",
    "                     )"
   ]
  },
  {
   "cell_type": "code",
   "execution_count": null,
   "metadata": {
    "tags": []
   },
   "outputs": [],
   "source": [
    "#Emma Watson\n",
    "#Good in a row: |||\n",
    "#Bad prompts: \"Hermoine Granger aka Emma Watson\"\n",
    "results=run_peekaboo('Hermoine Granger - Emma Watson - Girl with long hair',\n",
    "                     \"https://cometothedarkside97.files.wordpress.com/2021/05/images-2020-01-25t073939.551.jpeg?w=468\",\n",
    "                     representation='raster bilateral',\n",
    "                     LEARNING_RATE=1e-0,\n",
    "                     GRAVITY=.05,\n",
    "                     )"
   ]
  },
  {
   "cell_type": "code",
   "execution_count": null,
   "metadata": {},
   "outputs": [],
   "source": [
    "#Emma Watson\n",
    "#Good in a row: \n",
    "#Bad prompts: \n",
    "results=run_peekaboo('Harry Potter boy - daniel radcliffe - man with glasses',\n",
    "                     \"https://prisiliaandayani.files.wordpress.com/2014/03/harry-ron-hermione-harry-potter-2422078-361-500.jpg\",\n",
    "                     representation='raster bilateral',\n",
    "                     LEARNING_RATE=1e-0,\n",
    "                     GRAVITY=.05,\n",
    "                     )"
   ]
  },
  {
   "cell_type": "code",
   "execution_count": null,
   "metadata": {},
   "outputs": [],
   "source": [
    "#Good in a row with fixed timestep 500: H,H,\n",
    "#Bad prompts: \n",
    "\n",
    "# peekaboo.s.min_step=100\n",
    "# peekaboo.s.max_step=500\n",
    "for _ in range(10):\n",
    "    results=run_peekaboo(\n",
    "        'Harry Potter boy - daniel radcliffe - man with glasses',\n",
    "        # 'Hermoine Granger - Emma Watson - Girl with long hair',\n",
    "\n",
    "                         \"https://i.guim.co.uk/img/media/380500f7fd9321a6cfd1bd1a3b3f104ad9797bb7/0_0_2000_1199/master/2000.jpg?width=1200&height=1200&quality=85&auto=format&fit=crop&s=f0d0ecb5a0c33aa91be270b08619e8d7\",\n",
    "                            # \"https://assets.teenvogue.com/photos/569e7d2a74da98670ff0ce1c/1:1/w_2159,h_2159,c_limit/MCDHAPO_EC797_H.JPG\",\n",
    "                         # \"https://prisiliaandayani.files.wordpress.com/2014/03/harry-ron-hermione-harry-potter-2422078-361-500.jpg\",\n",
    "\n",
    "                         representation='raster bilateral',\n",
    "                         # representation='raster',\n",
    "                         # bilateral_kwargs=dict(kernel_size = 3,\n",
    "                         #                  tolerance = .08,\n",
    "                         #                  sigma = 5,\n",
    "                         #                  iterations=2,\n",
    "                         #                 ),\n",
    "                         # representation='raster',\n",
    "                         LEARNING_RATE=1e-0,\n",
    "                         GUIDANCE_SCALE=200,\n",
    "                         min_step=200,\n",
    "                         max_step=400,\n",
    "                         GRAVITY=.05,\n",
    "                         NUM_ITER=200,\n",
    "                         )\n",
    "    results_collection.append(results)"
   ]
  },
  {
   "cell_type": "code",
   "execution_count": null,
   "metadata": {},
   "outputs": [],
   "source": [
    "#Emma Watson\n",
    "#Good in a row: ||X2X\n",
    "#Good in a row with fixed timestep: |||||\n",
    "#Bad prompts: \n",
    "results=run_peekaboo('Hermoine Granger - Emma Watson - Girl with long hair',\n",
    "                     \"https://i.guim.co.uk/img/media/380500f7fd9321a6cfd1bd1a3b3f104ad9797bb7/0_0_2000_1199/master/2000.jpg?width=1200&height=1200&quality=85&auto=format&fit=crop&s=f0d0ecb5a0c33aa91be270b08619e8d7\",\n",
    "                     representation='raster bilateral',\n",
    "                     # bilateral_kwargs=dict(kernel_size = 3,\n",
    "                     #                  tolerance = .08,\n",
    "                     #                  sigma = 5,\n",
    "                     #                  iterations=2,\n",
    "                     #                 ),\n",
    "                     # representation='raster',\n",
    "                     LEARNING_RATE=1e-0,\n",
    "                     GRAVITY=.05,\n",
    "                     )"
   ]
  },
  {
   "cell_type": "code",
   "execution_count": null,
   "metadata": {},
   "outputs": [],
   "source": [
    "#Emma Watson\n",
    "#Good in a row: |||\n",
    "#Bad prompts: \"Emma Watson\"\n",
    "results=run_peekaboo('Hermoine Granger aka Emma Watson',\n",
    "                     \"https://assets.teenvogue.com/photos/569e7d2a74da98670ff0ce1c/1:1/w_2159,h_2159,c_limit/MCDHAPO_EC797_H.JPG\",\n",
    "                     representation='raster bilateral',\n",
    "                     LEARNING_RATE=1e-0,\n",
    "                     GRAVITY=.05,\n",
    "                     )"
   ]
  },
  {
   "cell_type": "code",
   "execution_count": null,
   "metadata": {},
   "outputs": [],
   "source": [
    "#Harry Potter \n",
    "#Good in a row: ||\n",
    "results=run_peekaboo('Daniel radcliffe',\n",
    "                     \"https://assets.teenvogue.com/photos/569e7d2a74da98670ff0ce1c/1:1/w_2159,h_2159,c_limit/MCDHAPO_EC797_H.JPG\",\n",
    "                     representation='raster bilateral',\n",
    "                     LEARNING_RATE=1e-0,\n",
    "                     GRAVITY=.05,\n",
    "                     )"
   ]
  },
  {
   "cell_type": "code",
   "execution_count": null,
   "metadata": {},
   "outputs": [],
   "source": [
    "#Harry Potter \n",
    "#Good in a row: |||||\n",
    "results=run_peekaboo('Harry Potter boy - daniel radcliffe - man with glasses',\n",
    "                     \"https://assets.teenvogue.com/photos/569e7d2a74da98670ff0ce1c/1:1/w_2159,h_2159,c_limit/MCDHAPO_EC797_H.JPG\",\n",
    "                     representation='raster bilateral',\n",
    "                     LEARNING_RATE=1e-0,\n",
    "                     GRAVITY=.05,\n",
    "                     )"
   ]
  },
  {
   "cell_type": "code",
   "execution_count": null,
   "metadata": {},
   "outputs": [],
   "source": [
    "#Mario vs Luigi Part 1\n",
    "#Good in a row: |||||\n",
    "results=run_peekaboo('Hermoine Granger - Emma Watson - Girl with long hair',\n",
    "                     \"https://assets.teenvogue.com/photos/569e7d2a74da98670ff0ce1c/1:1/w_2159,h_2159,c_limit/MCDHAPO_EC797_H.JPG\",\n",
    "                     representation='raster bilateral',\n",
    "                     LEARNING_RATE=1e-0,\n",
    "                     GRAVITY=.05,\n",
    "                     )"
   ]
  },
  {
   "cell_type": "code",
   "execution_count": null,
   "metadata": {
    "colab": {
     "base_uri": "https://localhost:8080/",
     "height": 1000
    },
    "id": "xt0W5sRgXZzc",
    "outputId": "9ed0490b-6209-4188-96b0-45fe4892ae94"
   },
   "outputs": [],
   "source": [
    "#Harry Potter Part 2\n",
    "results=run_peekaboo('Hermoine Granger - Emma Watson - Girl with long hair - left',\n",
    "                     \"https://assets.teenvogue.com/photos/569e7d2a74da98670ff0ce1c/1:1/w_2159,h_2159,c_limit/MCDHAPO_EC797_H.JPG\",\n",
    "                     NUM_ITER=300\n",
    "                    )"
   ]
  },
  {
   "cell_type": "code",
   "execution_count": null,
   "metadata": {
    "colab": {
     "base_uri": "https://localhost:8080/",
     "height": 529
    },
    "id": "QcZYe07D92jA",
    "outputId": "7378697c-1ee0-49da-fc6c-db26df3ea552"
   },
   "outputs": [],
   "source": [
    "#Stable Diffusion Basic Demo\n",
    "#This is a demo cell showing how to simply use Stable Diffusion to generate an image. This is usefull for prompt engineering.\n",
    "rp.display_image(peekaboo.s.prompt_to_img('Cake'))"
   ]
  },
  {
   "cell_type": "code",
   "execution_count": null,
   "metadata": {
    "colab": {
     "base_uri": "https://localhost:8080/",
     "height": 529
    },
    "id": "QcZYe07D92jA",
    "outputId": "7378697c-1ee0-49da-fc6c-db26df3ea552"
   },
   "outputs": [],
   "source": [
    "#Stable Diffusion Basic Demo\n",
    "#This is a demo cell showing how to simply use Stable Diffusion to generate an image. This is usefull for prompt engineering.\n",
    "for _ in range(30):\n",
    "    rp.display_image(peekaboo.s.prompt_to_img('Bowser from super smash bros; yellow shell; seen from the front'))"
   ]
  },
  {
   "cell_type": "code",
   "execution_count": null,
   "metadata": {},
   "outputs": [],
   "source": [
    "rp.local_copy(results)"
   ]
  },
  {
   "cell_type": "code",
   "execution_count": null,
   "metadata": {},
   "outputs": [],
   "source": [
    "results"
   ]
  },
  {
   "cell_type": "code",
   "execution_count": null,
   "metadata": {},
   "outputs": [],
   "source": []
  }
 ],
 "metadata": {
  "accelerator": "GPU",
  "colab": {
   "provenance": []
  },
  "gpuClass": "standard",
  "kernelspec": {
   "display_name": "Python 3 (ipykernel)",
   "language": "python",
   "name": "python3"
  },
  "language_info": {
   "codemirror_mode": {
    "name": "ipython",
    "version": 3
   },
   "file_extension": ".py",
   "mimetype": "text/x-python",
   "name": "python",
   "nbconvert_exporter": "python",
   "pygments_lexer": "ipython3",
   "version": "3.8.10"
  }
 },
 "nbformat": 4,
 "nbformat_minor": 4
}
