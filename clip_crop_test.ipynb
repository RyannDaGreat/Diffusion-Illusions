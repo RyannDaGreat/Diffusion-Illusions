{
 "cells": [
  {
   "cell_type": "code",
   "execution_count": null,
   "id": "6bf9054d-7a29-47f0-a468-0b71dec3badd",
   "metadata": {},
   "outputs": [],
   "source": [
    "import rp\n",
    "import source.clip as clip\n",
    "import torch\n",
    "from tqdm import tqdm\n",
    "import seaborn as sns\n",
    "sns.set_theme(style='dark')"
   ]
  },
  {
   "cell_type": "code",
   "execution_count": null,
   "id": "67793519-474a-4a53-94da-55d99d5bb357",
   "metadata": {},
   "outputs": [],
   "source": [
    "device=rp.select_torch_device(prefer_used=True)"
   ]
  },
  {
   "cell_type": "code",
   "execution_count": null,
   "id": "f41c5e3c-c0fd-4c82-920b-22306fc747c9",
   "metadata": {},
   "outputs": [],
   "source": [
    "# image='https://assets.teenvogue.com/photos/569e7d2a74da98670ff0ce1c/1:1/w_2159,h_2159,c_limit/MCDHAPO_EC797_H.JPG'\n",
    "image='https://i.guim.co.uk/img/media/380500f7fd9321a6cfd1bd1a3b3f104ad9797bb7/0_0_2000_1199/master/2000.jpg?width=1200&height=1200&quality=85&auto=format&fit=crop&s=f0d0ecb5a0c33aa91be270b08619e8d7'\n",
    "\n",
    "# image='https://www.cs.stanford.edu/~roozbeh/pascal-context/2008_001997.jpg'\n",
    "# image='https://www.cs.stanford.edu/~roozbeh/pascal-context/2008_002123.jpg'\n",
    "\n",
    "image='https://deadline.com/wp-content/uploads/2016/06/finding-dory.jpg?w=620&h=383&crop=1'\n",
    "\n",
    "size=400\n",
    "\n",
    "image=rp.load_image(image)\n",
    "image=rp.resize_image_to_fit(image,height=size,width=size,allow_growth=False)\n",
    "image=rp.as_float_image(image)\n",
    "image=rp.as_rgb_image(image)\n",
    "rp.display_image(image)"
   ]
  },
  {
   "cell_type": "code",
   "execution_count": null,
   "id": "8605a398-500e-4ee3-9c19-a273bd53b10a",
   "metadata": {},
   "outputs": [],
   "source": [
    "def shotgun_crop(image,min_scale=.1,max_scale=.8):\n",
    "    height,width=rp.get_image_dimensions(image)\n",
    "    scale=rp.random_float(min_scale,max_scale)\n",
    "    height=int(height*scale)\n",
    "    width=int(width*scale)\n",
    "    return rp.crop_image_at_random_position(image,height,width)"
   ]
  },
  {
   "cell_type": "code",
   "execution_count": null,
   "id": "996480eb-060d-4a63-b488-146e99bbd595",
   "metadata": {},
   "outputs": [],
   "source": [
    "cropped_images=[shotgun_crop(image) for _ in range(500)]"
   ]
  },
  {
   "cell_type": "code",
   "execution_count": null,
   "id": "1c050c92-51c6-4889-bfe8-affce3fed36a",
   "metadata": {},
   "outputs": [],
   "source": [
    "\n",
    "with torch.no_grad():\n",
    "    scores = []\n",
    "    for x in tqdm(cropped_images):\n",
    "        clip_logits = clip.get_clip_logits(\n",
    "            rp.as_torch_image(x).to(device),\n",
    "            [\n",
    "                # 'harry potter'\n",
    "                # 'hermoine'\n",
    "                # 'nemo'\n",
    "                'dory'\n",
    "                # 'chair'\n",
    "                # 'helmet'\n",
    "                # 'blue jeans'\n",
    "                # 'monitor'\n",
    "            ]\n",
    "        )[0]\n",
    "        score = float(clip_logits)\n",
    "        scores.append(score)"
   ]
  },
  {
   "cell_type": "code",
   "execution_count": null,
   "id": "261a47a3-4600-4ddf-af8c-42e569986564",
   "metadata": {},
   "outputs": [],
   "source": [
    "rp.line_graph_via_bokeh(sorted(scores))"
   ]
  },
  {
   "cell_type": "code",
   "execution_count": null,
   "id": "b3e731df-6054-45e0-a3e3-724ff473d733",
   "metadata": {},
   "outputs": [],
   "source": [
    "sns.histplot(scores, bins=50)"
   ]
  },
  {
   "cell_type": "code",
   "execution_count": null,
   "id": "a93ec332-6103-4dc1-8ad3-fa0839e03ec7",
   "metadata": {},
   "outputs": [],
   "source": [
    "d_scores,_,scored_images=rp.sync_sort(scores,list(range(len(scores))),cropped_images)"
   ]
  },
  {
   "cell_type": "code",
   "execution_count": null,
   "id": "b9c20e60-2953-4893-a9db-b983d4eaf23a",
   "metadata": {},
   "outputs": [],
   "source": [
    "d_height, d_width=rp.get_max_image_dimensions(scored_images)\n",
    "d_scored_images=[rp.cv_resize_image(x,(d_height,d_width)) for x in scored_images]#,origin='center')\n",
    "d_scored_images=[rp.labeled_image(im,'%.2f'%score) for im,score in zip(d_scored_images,d_scores)]\n",
    "rp.display_image_slideshow(d_scored_images[-50:])\n",
    "rp.display_image_slideshow(d_scored_images[::10])"
   ]
  },
  {
   "cell_type": "code",
   "execution_count": null,
   "id": "adc5d231-d6e1-46c1-aa6b-12c693d43014",
   "metadata": {},
   "outputs": [],
   "source": []
  }
 ],
 "metadata": {
  "kernelspec": {
   "display_name": "Python 3.10 (sd2_dream)",
   "language": "python",
   "name": "sd2_dream"
  },
  "language_info": {
   "codemirror_mode": {
    "name": "ipython",
    "version": 3
   },
   "file_extension": ".py",
   "mimetype": "text/x-python",
   "name": "python",
   "nbconvert_exporter": "python",
   "pygments_lexer": "ipython3",
   "version": "3.10.11"
  }
 },
 "nbformat": 4,
 "nbformat_minor": 5
}
