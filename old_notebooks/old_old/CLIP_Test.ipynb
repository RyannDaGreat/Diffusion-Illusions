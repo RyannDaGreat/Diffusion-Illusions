{
 "cells": [
  {
   "cell_type": "code",
   "execution_count": null,
   "id": "f0d62144-6dd4-44af-b310-626a4d9dca82",
   "metadata": {
    "tags": []
   },
   "outputs": [],
   "source": [
    "from PIL import Image\n",
    "import requests\n",
    "from transformers import AutoProcessor, CLIPModel\n",
    "import numpy as np\n",
    "import torch\n",
    "import rp\n",
    "from transformers import CLIPProcessor, CLIPModel\n",
    "\n",
    "from source.clip import get_clip_logits\n",
    "import source.peekaboo as peekaboo\n",
    "\n",
    "url = \"http://images.cocodataset.org/val2017/000000039769.jpg\"\n",
    "url = \"https://i.pinimg.com/564x/87/a1/3e/87a13ebe6b5e4f100b84b0e68bc994d5--pokemon-cakes-pokemon-go.jpg\"\n",
    "image=rp.as_float_image(rp.as_rgb_image(rp.load_image(url)))\n",
    "image=rp.as_torch_image(image)\n",
    "image=image.to('cuda:2')\n",
    "\n",
    "logits_per_image = get_clip_logits(image,[\"a photo of a squirtle\",\"a photo of a pokemon\",\"a photo of a pikachu\",\"\"])\n",
    "probs = logits_per_image.softmax(dim=0)  # we can take the softmax to get the label probabilities\n",
    "print(logits_per_image,probs)\n",
    "\n",
    "rp.display_image(rp.load_image(url))"
   ]
  },
  {
   "cell_type": "code",
   "execution_count": null,
   "id": "442d9b6a-0a9d-42ae-b22c-8cda21516bef",
   "metadata": {},
   "outputs": [],
   "source": [
    "import icecream\n",
    "import numpy as np\n",
    "import rp\n",
    "import torch\n",
    "import torch.nn as nn\n",
    "from easydict import EasyDict\n",
    "from IPython.display import clear_output\n",
    "from torchvision.transforms.functional import normalize\n",
    "\n",
    "from source.bilateral_blur import BilateralProxyBlur\n",
    "from source.learnable_textures import (LearnableImageFourier,\n",
    "                                    LearnableLatentImage,\n",
    "                                       LearnableImageFourierBilateral,\n",
    "                                       LearnableImageRaster,\n",
    "                                       LearnableImageRasterBilateral,\n",
    "                                       LearnableTexturePackFourier,\n",
    "                                       LearnableTexturePackRaster)"
   ]
  },
  {
   "cell_type": "code",
   "execution_count": null,
   "id": "ac6a36fc-dd8d-4aaa-8d59-8aad3ee33fab",
   "metadata": {},
   "outputs": [],
   "source": [
    "image = LearnableLatentImage(\n",
    "    LearnableImageRaster(height=64, width=64, num_channels=4).cuda(),\n",
    "    lambda x: peekaboo.s.decode_latent((x-.5)*1),\n",
    ")\n",
    "\n",
    "# image=LearnableImageFourier(224,224)\n",
    "# image=LearnableImageRaster(height=64, width=64, num_channels=4).cuda()\n",
    "    \n",
    "    \n",
    "\n",
    "def display():\n",
    "    rp.display_image(rp.as_numpy_image(image()))\n",
    "display()"
   ]
  },
  {
   "cell_type": "code",
   "execution_count": null,
   "id": "61e71e5a-19a4-4f8e-8f61-6e7bda875738",
   "metadata": {},
   "outputs": [],
   "source": [
    "prompt='a kitten in a cardboard box'\n",
    "prompt='blue'\n",
    "\n",
    "optim=torch.optim.Adam(\n",
    "    image.parameters(),    \n",
    "    # lr=1e-1\n",
    ")\n",
    "\n",
    "for i in range(10000):\n",
    "    \n",
    "    logits = get_clip_logits(image(),[prompt, \"\"])\n",
    "\n",
    "    loss= - (logits[0]*1 - logits[1])\n",
    "    loss=loss*1\n",
    "    loss.backward()\n",
    "    # break\n",
    "    optim.step()\n",
    "    optim.zero_grad()\n",
    "    \n",
    "    if not i%25:\n",
    "        print(i, loss)\n",
    "        display()"
   ]
  },
  {
   "cell_type": "code",
   "execution_count": null,
   "id": "00ded27a-1756-490c-a13e-fba6d94be992",
   "metadata": {},
   "outputs": [],
   "source": [
    "image()"
   ]
  },
  {
   "cell_type": "code",
   "execution_count": null,
   "id": "162c8708-b3d8-43ec-b452-bb6d647b7b34",
   "metadata": {},
   "outputs": [],
   "source": []
  },
  {
   "cell_type": "code",
   "execution_count": null,
   "id": "a50aad52-f733-4cec-af2e-bccdb7d47c60",
   "metadata": {},
   "outputs": [],
   "source": []
  }
 ],
 "metadata": {
  "kernelspec": {
   "display_name": "Python 3 (ipykernel)",
   "language": "python",
   "name": "python3"
  },
  "language_info": {
   "codemirror_mode": {
    "name": "ipython",
    "version": 3
   },
   "file_extension": ".py",
   "mimetype": "text/x-python",
   "name": "python",
   "nbconvert_exporter": "python",
   "pygments_lexer": "ipython3",
   "version": "3.8.10"
  }
 },
 "nbformat": 4,
 "nbformat_minor": 5
}
