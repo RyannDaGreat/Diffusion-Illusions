{
 "cells": [
  {
   "cell_type": "code",
   "execution_count": null,
   "id": "76e75089-64e3-4da6-bacb-8091eb70e299",
   "metadata": {
    "id": "FAtxvveUbquu"
   },
   "outputs": [],
   "source": [
    "import numpy as np\n",
    "import rp\n",
    "import torch\n",
    "import torch.nn as nn\n",
    "import source.stable_diffusion as sd\n",
    "from easydict import EasyDict\n",
    "from source.learnable_textures import LearnableImageFourier\n",
    "from source.stable_diffusion_labels import NegativeLabel\n",
    "from itertools import chain\n",
    "import time"
   ]
  },
  {
   "cell_type": "code",
   "execution_count": null,
   "id": "685afd64-ab19-4f12-941e-78abef91984e",
   "metadata": {
    "colab": {
     "base_uri": "https://localhost:8080/"
    },
    "id": "x7A1Fw50eDjJ",
    "outputId": "37ceb472-da12-4c74-a76b-a89f39a3a14d"
   },
   "outputs": [],
   "source": [
    "#ONLY GOOD PROMPTS HERE\n",
    "example_prompts = rp.load_yaml_file('source/example_prompts.yaml')\n",
    "print('Available example prompts:', ', '.join(example_prompts))\n",
    "\n",
    "#These prompts are all strings - you can replace them with whatever you want! By default it lets you choose from example prompts\n",
    "prompt_a, prompt_b, prompt_c, prompt_d, prompt_z = rp.gather(example_prompts, 'miku froggo lipstick kitten_in_box darth_vader'.split())\n",
    "#Prompts a,b,c,d are the normal looking images\n",
    "#Prompt z is the hidden image you get when you overlay them all on top of each other\n",
    "\n",
    "negative_prompt = ''\n",
    "\n",
    "print()\n",
    "print('Negative prompt:',repr(negative_prompt))\n",
    "print()\n",
    "print('Chosen prompts:')\n",
    "print('    prompt_a =', repr(prompt_a))\n",
    "print('    prompt_b =', repr(prompt_b))\n",
    "print('    prompt_c =', repr(prompt_c))\n",
    "print('    prompt_d =', repr(prompt_d))\n",
    "print('    prompt_z =', repr(prompt_z))"
   ]
  },
  {
   "cell_type": "markdown",
   "id": "91155bc2-d321-42d0-8cf4-52667904f687",
   "metadata": {
    "id": "p0eh7vWFfPQ6"
   },
   "source": [
    "# New Section"
   ]
  },
  {
   "cell_type": "code",
   "execution_count": null,
   "id": "749bc714-8a2c-4dc6-bf7b-59108ad6672c",
   "metadata": {
    "colab": {
     "base_uri": "https://localhost:8080/",
     "height": 85,
     "referenced_widgets": [
      "ec572d79f75648e69c18f8fbb8445abe",
      "8a95ebc987364a3cbbc27866ff8c964b",
      "13511603d504480489e9de201dd85211",
      "f72921cdc424455e8d2e86b0ea07a29b",
      "df5753e3d2b54078a5ff58f1f0f5de78",
      "f4b3425062c041b3aa5db68a73ea0a01",
      "eb7e46a3bff547ba8d07ebc87eddd9a0",
      "875b8337c4304ae0b9ea63eb7435d3ba",
      "f767f331f3af45d4a3814a5447d29004",
      "19d10e0e23fa460c8ba196c1691ecef3",
      "38124b85cb824de2a2640dfede710372"
     ]
    },
    "id": "wi9Y9Zp5ejSP",
    "outputId": "b79dad35-3726-4efb-f640-dfb3f27df788"
   },
   "outputs": [],
   "source": [
    "if 's' not in dir():\n",
    "    model_name='CompVis/stable-diffusion-v1-4'      # 512 Base model 1.4\n",
    "    # model_name='runwayml/stable-diffusion-v1-5'     # 512 Base model 1.5\n",
    "    model_name='stabilityai/stable-diffusion-2'     # 768 Base model 2.0\n",
    "    # model_name='stabilityai/stable-diffusion-2-1'   # 768 Base model 2.1\n",
    "    # model_name='sd-dreambooth-library/fashion'      # 512 Fashion stuff?\n",
    "    # model_name='nitrosocke/mo-di-diffusion'         # 512 Dreambooth: Use 'modern disney style' in prompt. Pixar style.\n",
    "    # model_name='nitrosocke/archer-diffusion'        # 512 Dreambooth: Use 'archer style' in prompt. Thick outline clean cartoon style.\n",
    "    model_name='nitrosocke/nitro-diffusion'         # 512 Dreambooth: Use 'arcane style', 'archer style' and/or 'modern disney style' in your prompt\n",
    "    # model_name='Envvi/Inkpunk-Diffusion'            # 512 Dreambooth: Use 'nvinkpunk' in prompt. Looks kinda like borderlands, but more dramatic and artistic.\n",
    "    # model_name='nitrosocke/classic-anim-diffusion'  # 512 Dreambooth: Use 'classic disney style' in prompt. Old timey disney style.\n",
    "    # model_name='nitrosocke/Ghibli-Diffusion'        # 512 Dreambooth: Use 'ghibli style' in prompt. Studio Ghibli anime style.\n",
    "    # model_name='hakurei/waifu-diffusion'            # 512 Fine Tuned: No special prompting needed\n",
    "    # model_name='hakurei/artstation-diffusion'       # 512 Fine Tuned: No special prompting needed\n",
    "    # model_name='prompthero/openjourney-v4'          # 512 Fine Tuned: No special prompting needed\n",
    "    \n",
    "    gpu=str(rp.select_torch_device())\n",
    "    s=sd.StableDiffusion(gpu,model_name)\n",
    "device=s.device;"
   ]
  },
  {
   "cell_type": "code",
   "execution_count": null,
   "id": "c5b51ef0-8462-43cc-86d2-116069778cb0",
   "metadata": {
    "id": "HL_pjdcFekG6"
   },
   "outputs": [],
   "source": [
    "label_a = NegativeLabel(prompt_a + ' nvinkpunk',negative_prompt)\n",
    "label_b = NegativeLabel(prompt_b + ' nvinkpunk',negative_prompt)\n",
    "label_c = NegativeLabel(prompt_c + ' nvinkpunk',negative_prompt)\n",
    "label_d = NegativeLabel(prompt_d + ' nvinkpunk',negative_prompt)\n",
    "label_z = NegativeLabel(prompt_z + ' nvinkpunk',negative_prompt)"
   ]
  },
  {
   "cell_type": "code",
   "execution_count": null,
   "id": "df2ad88a-40af-4c46-a87a-b85c80cd061b",
   "metadata": {},
   "outputs": [],
   "source": [
    "# s.height=s.width=256\n",
    "# s.height=s.width=512\n",
    "s.height=s.width=768\n",
    "# s.height=s.width=1024\n",
    "# s.height=s.width=2048\n",
    "\n",
    "prompt='modern disney style Closeup face portrait of a black girl wearing crown of flowers, smooth soft skin, big dreamy eyes, beautiful intricate colored hair, symmetrical, anime wide eyes, soft lighting, detailed face, by makoto shinkai, stanley artgerm lau, wlop, rossdraws, concept art, digital painting, looking into camera'\n",
    "prompt='archer style Closeup face portrait of a black girl wearing crown of flowers, smooth soft skin, big dreamy eyes, beautiful intricate colored hair, symmetrical, anime wide eyes, soft lighting, detailed face, by makoto shinkai, stanley artgerm lau, wlop, rossdraws, concept art, digital painting, looking into camera'\n",
    "prompt='arcane style, a magical princess with golden hair'\n",
    "# prompt='ghibli style anime girl'\n",
    "label=NegativeLabel(prompt,'ugly unrealistic blurry')\n",
    "label=NegativeLabel(prompt)\n",
    "image=label.get_sample_image(guidance_scale=16,num_steps=100)\n",
    "rp.rinsp(image)\n",
    "rp.display_image(image)"
   ]
  },
  {
   "cell_type": "code",
   "execution_count": null,
   "id": "0e129050-5d57-4114-91eb-33b146f02905",
   "metadata": {},
   "outputs": [],
   "source": [
    "s.pipe.unet.config"
   ]
  },
  {
   "cell_type": "code",
   "execution_count": null,
   "id": "0a6a1ee3-16d2-4230-b914-1cd5350fa032",
   "metadata": {},
   "outputs": [],
   "source": []
  }
 ],
 "metadata": {
  "kernelspec": {
   "display_name": "Python 3.10 (sd2_dream)",
   "language": "python",
   "name": "sd2_dream"
  },
  "language_info": {
   "codemirror_mode": {
    "name": "ipython",
    "version": 3
   },
   "file_extension": ".py",
   "mimetype": "text/x-python",
   "name": "python",
   "nbconvert_exporter": "python",
   "pygments_lexer": "ipython3",
   "version": "3.10.11"
  }
 },
 "nbformat": 4,
 "nbformat_minor": 5
}
