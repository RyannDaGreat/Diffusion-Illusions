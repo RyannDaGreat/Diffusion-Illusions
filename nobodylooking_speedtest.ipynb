{
 "cells": [
  {
   "cell_type": "code",
   "execution_count": 1,
   "id": "ab1b8e01-8c38-48d7-893b-3fb3c910de7c",
   "metadata": {},
   "outputs": [
    {
     "name": "stdout",
     "output_type": "stream",
     "text": [
      "[0.27791929244995117, 0.09720873832702637, 0.09175324440002441, 0.09184861183166504, 0.0917353630065918, 0.09158921241760254, 0.09180402755737305, 0.09213995933532715, 0.09179878234863281, 0.09746694564819336, 0.0901327133178711, 0.08986973762512207, 0.09009313583374023, 0.08988332748413086, 0.08988404273986816]\n"
     ]
    }
   ],
   "source": [
    "import rp\n",
    "from rp import *\n",
    "from IPython.display import clear_output\n",
    "times=[]\n",
    "for x in range(15):\n",
    "    rp.display_image(np.random.rand(1024,1024,3))\n",
    "    # rp.sleep(1)\n",
    "    clear_output()\n",
    "    time_taken=toc()\n",
    "    tic()\n",
    "    times.append(time_taken)\n",
    "    print(times)\n",
    "    "
   ]
  },
  {
   "cell_type": "code",
   "execution_count": 2,
   "id": "35086d4b-27ba-4854-8fc2-f4dfa9437dd0",
   "metadata": {},
   "outputs": [
    {
     "data": {
      "text/plain": [
       "[1.112159252166748,\n",
       " 1.099663257598877,\n",
       " 1.0986146926879883,\n",
       " 1.0995454788208008,\n",
       " 1.099616527557373,\n",
       " 1.0996553897857666,\n",
       " 1.0999772548675537,\n",
       " 1.0999364852905273,\n",
       " 1.1005964279174805,\n",
       " 1.0998754501342773,\n",
       " 1.0998516082763672,\n",
       " 1.1002583503723145,\n",
       " 1.1012420654296875,\n",
       " 1.1001992225646973,\n",
       " 1.0995924472808838,\n",
       " 1.0995993614196777,\n",
       " 1.0992324352264404,\n",
       " 1.0996403694152832,\n",
       " 1.1002893447875977,\n",
       " 1.0997612476348877,\n",
       " 1.100590467453003,\n",
       " 1.0982940196990967,\n",
       " 1.0989418029785156,\n",
       " 1.0990653038024902,\n",
       " 1.0995330810546875,\n",
       " 1.0994975566864014,\n",
       " 1.0996639728546143,\n",
       " 1.0957810878753662,\n",
       " 1.1007299423217773,\n",
       " 1.0999555587768555,\n",
       " 1.0997214317321777,\n",
       " 1.1002106666564941]"
      ]
     },
     "execution_count": 2,
     "metadata": {},
     "output_type": "execute_result"
    }
   ],
   "source": [
    "times"
   ]
  },
  {
   "cell_type": "code",
   "execution_count": null,
   "id": "b636ad93-b858-4a14-bc57-d18513896509",
   "metadata": {},
   "outputs": [],
   "source": []
  }
 ],
 "metadata": {
  "kernelspec": {
   "display_name": "Python diffilu",
   "language": "python",
   "name": "diffilu"
  },
  "language_info": {
   "codemirror_mode": {
    "name": "ipython",
    "version": 3
   },
   "file_extension": ".py",
   "mimetype": "text/x-python",
   "name": "python",
   "nbconvert_exporter": "python",
   "pygments_lexer": "ipython3",
   "version": "3.10.13"
  }
 },
 "nbformat": 4,
 "nbformat_minor": 5
}
