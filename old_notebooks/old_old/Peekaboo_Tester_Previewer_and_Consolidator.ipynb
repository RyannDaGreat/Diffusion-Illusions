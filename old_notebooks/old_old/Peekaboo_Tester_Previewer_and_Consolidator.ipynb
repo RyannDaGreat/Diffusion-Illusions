{
 "cells": [
  {
   "cell_type": "code",
   "execution_count": null,
   "id": "5856c68b-c5b5-4b7c-904c-7d3a74f678c1",
   "metadata": {},
   "outputs": [],
   "source": [
    "%cd /mnt/md0/nfs/ryan/CleanCode/Projects/Peekaboo/Experiments/Dreams"
   ]
  },
  {
   "cell_type": "code",
   "execution_count": null,
   "id": "ef57b7cd-29f1-46d0-a32a-0907fc643f74",
   "metadata": {},
   "outputs": [],
   "source": [
    "import rp\n",
    "from IPython.display import HTML, clear_output\n",
    "import source.peekaboo as peekaboo\n",
    "from source.peekaboo import PeekabooResult"
   ]
  },
  {
   "cell_type": "code",
   "execution_count": null,
   "id": "2ad2f013-af1f-493e-9fc3-24b82b4ece69",
   "metadata": {},
   "outputs": [],
   "source": [
    "class Result(PeekabooResult):\n",
    "    @property\n",
    "    def algorithm_name(self):\n",
    "        #Specific to these datasets\n",
    "        return self.name.split('.')[-1]\n",
    "    @property\n",
    "    def prompt(self):\n",
    "        out=self.params.label #Usually like SimpleLabel(name=cat)\n",
    "        out=out[len('SimpleLabel(name='):-len(')')]\n",
    "        return out"
   ]
  },
  {
   "cell_type": "code",
   "execution_count": null,
   "id": "e8311427-54ce-4fab-bdd7-e25baee56f15",
   "metadata": {},
   "outputs": [],
   "source": [
    "def load_results(peekaboo_results_folder='./peekaboo_results'):\n",
    "    # print(rp.get_absolute_path(peekaboo_results_folder))\n",
    "    results=[]\n",
    "    for result_collection in rp.get_subfolders(peekaboo_results_folder):\n",
    "        # print(\"-----------\",result_collection)\n",
    "        for result_folder in rp.get_subfolders(result_collection):\n",
    "            result=Result(result_folder)\n",
    "            if result.is_valid:\n",
    "                results.append(result)\n",
    "            # else:\n",
    "                # print(\"Invalid result at %s\"%result_folder)\n",
    "    return results\n",
    "\n",
    "def cluster_results_by_algorithm(results)->dict:\n",
    "    return rp.cluster_by_key(results, lambda x:x.algorithm_name, as_dict=True)"
   ]
  },
  {
   "cell_type": "code",
   "execution_count": null,
   "id": "f97e046c-af57-4190-820a-c14a5f93833e",
   "metadata": {},
   "outputs": [],
   "source": [
    "def save_xiang_dir(peekaboo_results_folder='./peekaboo_results', xiang_dir_name='ref_voc'):\n",
    "    results = load_results(peekaboo_results_folder)\n",
    "    \n",
    "    results_per_algorithm = cluster_results_by_algorithm(results)\n",
    "\n",
    "    for algorithm_name, result_subset in results_per_algorithm.items():\n",
    "\n",
    "        xiang_dir = rp.make_directory('untracked/for_xiang/%s/%s/alpha'%(xiang_dir_name, algorithm_name))\n",
    "        print(\"Making\",xiang_dir)\n",
    "\n",
    "        display_eta=rp.eta(len(result_subset))\n",
    "        for index, result in enumerate(result_subset):\n",
    "            display_eta(index)\n",
    "            original_path = result.alpha_path\n",
    "            new_path = rp.joined_paths(xiang_dir, result.image_name)\n",
    "            if not rp.is_image_file(new_path):\n",
    "                rp.copy_file(original_path, new_path)"
   ]
  },
  {
   "cell_type": "code",
   "execution_count": null,
   "id": "678a86c6-1d43-4b63-93d4-5c48227b74e5",
   "metadata": {},
   "outputs": [],
   "source": [
    "def outline_result(result,just_outline=False):\n",
    "    image=result.image\n",
    "    threshold=.2\n",
    "\n",
    "    alpha=result.alpha\n",
    "    std=alpha.std()\n",
    "    alpha=alpha-alpha.mean()*.55\n",
    "    alpha=alpha/std/2\n",
    "    \n",
    "    image=rp.cv_resize_image(image,rp.get_image_dimensions(alpha))\n",
    "    alpha=rp.cv_gauss_blur(alpha, sigma=3)\n",
    "    alpha=rp.cv_dilate(alpha, diameter=5, circular=True)\n",
    "    alpha=rp.as_float_image(alpha)\n",
    "    mask=alpha>threshold\n",
    "\n",
    "    def get_outline_from_mask(thickness):\n",
    "        #Returns a mask for the outline\n",
    "        return rp.cv_dilate(mask, diameter=thickness, circular=True) != rp.cv_erode(mask, diameter=thickness, circular=True)\n",
    "    \n",
    "    output=image\n",
    "    output=rp.blend_images(output, (.0,.0,.0,.3), ~mask)\n",
    "    output=rp.blend_images(output, (1,1,1,.3), mask)\n",
    "    output=rp.blend_images(output, (0,0,0,1), get_outline_from_mask(7))\n",
    "    output=rp.blend_images(output, (0,1,0,1), get_outline_from_mask(3))\n",
    "    \n",
    "    if just_outline:\n",
    "        return output\n",
    "    \n",
    "    output=rp.horizontally_concatenated_images(alpha,output)\n",
    "    \n",
    "    return output"
   ]
  },
  {
   "cell_type": "code",
   "execution_count": null,
   "id": "16fbe5d1-ddb0-4a23-8879-1589767c24bc",
   "metadata": {},
   "outputs": [],
   "source": [
    "#TODO: Fix 'tv/monitor' prompt! Bad! It subfoldered!\n",
    "save_xiang_dir('peekaboo_results','ref_voc')\n",
    "save_xiang_dir('peekaboo_results_ref_voc_mo','ref_voc_mo')\n",
    "save_xiang_dir('peekaboo_results_coco_fixed','coco')\n",
    "save_xiang_dir('peekaboo_results_coco_fixed_2','coco_2')"
   ]
  },
  {
   "cell_type": "code",
   "execution_count": null,
   "id": "2aec05a8-187d-4c70-a42a-7dbe00ca3cfc",
   "metadata": {
    "tags": []
   },
   "outputs": [],
   "source": [
    "peekaboo_results_folder='./peekaboo_results_coco_fixed' ; xiang_dir_name='coco'\n",
    "# peekaboo_results_folder='./peekaboo_results'            ; xiang_dir_name='ref_voc'\n",
    "results = load_results(peekaboo_results_folder)\n",
    "results_per_image = rp.cluster_by_key(results,lambda x:x.image_name)\n",
    "rp.ic(len(results))\n",
    "\n",
    "preview_image_dump=rp.make_directory('untracked/for_xiang/%s/preview_images/images'%xiang_dir_name)\n",
    "html_file='untracked/for_xiang/%s/preview_images/index.html'%xiang_dir_name\n",
    "rp.string_to_text_file(html_file,'')\n",
    "\n",
    "for result_set in results_per_image:\n",
    "    result_set=sorted(result_set,key=lambda x:x.algorithm_name)\n",
    "    alphas=[x.alpha for x in result_set]\n",
    "    outlines=[outline_result(x,True) for x in result_set]\n",
    "    tiles=[rp.vertically_concatenated_images(x,y) for x,y in zip(alphas, outlines)]\n",
    "    tiles=[rp.labeled_image(x,y.algorithm_name) for x,y in zip(tiles,result_set)]\n",
    "    image=rp.horizontally_concatenated_images(tiles)\n",
    "    image=rp.labeled_image(image,result_set[0].image_path,position='top',text_color=(100,100,100))\n",
    "    image=rp.labeled_image(image,result_set[0].prompt,size=20)\n",
    "    image=rp.as_rgb_image(image)\n",
    "    \n",
    "    image_path=rp.path_join(preview_image_dump, result_set[0].image_name)\n",
    "    if not rp.is_image_file(image_path):\n",
    "        rp.run_as_new_thread(rp.save_image, image, image_path)\n",
    "    rp.append_line_to_file('<img src=\"images/%s\" class=\"center\"><br>'%result_set[0].image_name,html_file)\n",
    "    \n",
    "    # rp.display_image(image)\n"
   ]
  },
  {
   "cell_type": "code",
   "execution_count": null,
   "id": "3c690990-77ec-4338-a61a-c58c02e0ad7b",
   "metadata": {
    "tags": []
   },
   "outputs": [],
   "source": [
    "peekaboo_results_folder='./peekaboo_results_coco_fixed'\n",
    "peekaboo_results_folder='./peekaboo_results'\n",
    "results = load_results(peekaboo_results_folder)\n",
    "results_per_algorithm = cluster_results_by_algorithm(results)\n",
    "rp.ic(len(results),list(results_per_algorithm))\n",
    "raster_bilateral = results_per_algorithm['raster_bilateral']\n",
    "result_subset=raster_bilateral\n",
    "for result in result_subset:\n",
    "    rp.display_image(outline_result(result))"
   ]
  }
 ],
 "metadata": {
  "kernelspec": {
   "display_name": "Python 3 (ipykernel)",
   "language": "python",
   "name": "python3"
  },
  "language_info": {
   "codemirror_mode": {
    "name": "ipython",
    "version": 3
   },
   "file_extension": ".py",
   "mimetype": "text/x-python",
   "name": "python",
   "nbconvert_exporter": "python",
   "pygments_lexer": "ipython3",
   "version": "3.8.10"
  }
 },
 "nbformat": 4,
 "nbformat_minor": 5
}
