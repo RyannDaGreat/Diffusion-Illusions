{
 "cells": [
  {
   "cell_type": "code",
   "execution_count": null,
   "id": "f649f65c-cda2-4388-9489-493590f06249",
   "metadata": {
    "tags": []
   },
   "outputs": [],
   "source": [
    "import pandas as pd\n",
    "import numpy as np\n",
    "from glob import glob\n",
    "import os\n",
    "import json\n",
    "import cv2 as cv\n",
    "from tqdm import tqdm\n",
    "\n",
    "def IOU(a, b):\n",
    "    assert a.shape == b.shape and len(a.shape) == 2\n",
    "    return np.count_nonzero(np.logical_and(a, b)) / np.count_nonzero(np.logical_or(a, b))\n"
   ]
  },
  {
   "cell_type": "code",
   "execution_count": null,
   "id": "1994daf8-dc46-408d-ad48-f07ac0e4415e",
   "metadata": {
    "tags": []
   },
   "outputs": [],
   "source": [
    "# VOC labels\n",
    "label_colors= np.asarray(\n",
    "        [\n",
    "            [0, 0, 0],\n",
    "            [128, 0, 0],\n",
    "            [0, 128, 0],\n",
    "            [128, 128, 0],\n",
    "            [0, 0, 128],\n",
    "            [128, 0, 128],\n",
    "            [0, 128, 128],\n",
    "            [128, 128, 128],\n",
    "            [64, 0, 0],\n",
    "            [192, 0, 0],\n",
    "            [64, 128, 0],\n",
    "            [192, 128, 0],\n",
    "            [64, 0, 128],\n",
    "            [192, 0, 128],\n",
    "            [64, 128, 128],\n",
    "            [192, 128, 128],\n",
    "            [0, 64, 0],\n",
    "            [128, 64, 0],\n",
    "            [0, 192, 0],\n",
    "            [128, 192, 0],\n",
    "            [0, 64, 128],\n",
    "        ]\n",
    "    ).astype(np.uint8)\n",
    "\n",
    "label_texts = [\n",
    "    'background',\n",
    "    'aeroplane', \n",
    "    'bicycle', \n",
    "    'bird',\n",
    "    'boat',\n",
    "    'bottle',\n",
    "    'bus',\n",
    "    'car',\n",
    "    'cat',\n",
    "    'chair',\n",
    "    'cow',\n",
    "    'diningtable',\n",
    "    'dog',\n",
    "    'horse',\n",
    "    'motorbike',\n",
    "    'person',\n",
    "    'potted plant',\n",
    "    'sheep',\n",
    "    'sofa',\n",
    "    'train',\n",
    "    'tv/monitor'\n",
    "]"
   ]
  },
  {
   "cell_type": "code",
   "execution_count": null,
   "id": "40500d5a-969e-4e60-9382-20c22d5e368f",
   "metadata": {
    "tags": []
   },
   "outputs": [],
   "source": [
    "pred = '/nfs/ws1/ryan/CleanCode/Projects/Peekaboo/Experiments/Dreams/untracked/for_xiang/ref_voc'\n",
    "prefix = '/nfs/ws1/datasets/RefVOC/'\n",
    "gt = '/raid/datasets/pascal_voc/VOC2012/SegmentationClass'\n",
    "\n",
    "from IPython.display import display\n",
    "from PIL import Image\n",
    "\n",
    "def zip_to_single_channel(l):\n",
    "    return (l[...,0] // 4)  + (l[...,1] // 16) + l[...,2] // 64\n",
    "\n",
    "zipped_labels = zip_to_single_channel(label_colors).tolist()\n",
    "print(zipped_labels)\n",
    "\n",
    "displayed=5\n",
    "\n",
    "def eval_peekaboo_voc(prefix, pred, gt):\n",
    "    unfinished = []\n",
    "    with open(os.path.join(prefix, 'cropped.txt'), 'r') as f:\n",
    "        names = f.readlines()\n",
    "    \n",
    "    # random.shuffle(names)\n",
    "    \n",
    "    res = []\n",
    "    \n",
    "    folders = glob(f'{pred}/*')\n",
    "    methods = [folder.split('/')[-1] for folder in folders]\n",
    "    \n",
    "    for name in tqdm(names):\n",
    "        words = name.split()\n",
    "        image_name = words[0]\n",
    "        cls_name = ' '.join(words[1:])\n",
    "        \n",
    "        with open(f'{prefix}/cropped-{image_name}.jpg.txt', 'r') as f:\n",
    "            x1, x2, y1, y2 = f.readline().split()\n",
    "            x1 = int(x1)\n",
    "            x2 = int(x2)\n",
    "            y1 = int(y1)\n",
    "            y2 = int(y2)\n",
    "            \n",
    "        \n",
    "            \n",
    "            gt_img = cv.imread(os.path.join(gt, f'{image_name}.png'))[y1:y2, x1:x2, ::-1]\n",
    "            gt_img = zip_to_single_channel(gt_img)\n",
    "            h, w = gt_img.shape\n",
    "            cls_idx = label_texts.index(cls_name)\n",
    "            cls_color = zipped_labels[cls_idx]\n",
    "\n",
    "            mapb = gt_img == cls_color\n",
    "\n",
    "            for method, folder in zip(methods, folders):\n",
    "                if method == 'preview_images':\n",
    "                    continue\n",
    "                image_target = os.path.join(folder, f'alpha', f'cropped-{image_name}.jpg')\n",
    "                if not os.path.exists(image_target):\n",
    "                    unfinished.append(image_target)\n",
    "                    continue\n",
    "                pred_img = cv.resize(cv.imread(image_target, 0), (w, h), cv.INTER_NEAREST)\n",
    "                \n",
    "                import rp\n",
    "                \n",
    "#                 alpha=pred_img\n",
    "#                 std=alpha.std()\n",
    "#                 alpha=alpha-alpha.mean()*.9\n",
    "#                 alpha=alpha/std/1.5\n",
    "#                 pred_img=alpha\n",
    "                \n",
    "#                 R=55\n",
    "#                 pred_img=rp.cv_dilate(pred_img,R,circular=True)\n",
    "#                 # pred_img=rp.cv_erode(pred_img,R,circular=True)\n",
    "#                 pred_img=rp.cv_erode(pred_img,R,circular=True)\n",
    "#                 # R=10\n",
    "#                 # pred_img=rp.cv_erode(pred_img,R,circular=True)\n",
    "#                 # pred_img=rp.cv_dilate(pred_img,R,circular=True)\n",
    "#                 # pred_img=rp.cv_dilate(pred_img,20,circular=True)\n",
    "                \n",
    "#                 # alpha=pred_img\n",
    "#                 # std=alpha.std()\n",
    "#                 # alpha=alpha-alpha.mean()*.9\n",
    "#                 # alpha=alpha/std/2\n",
    "#                 # pred_img=alpha\n",
    "                alpha=pred_img\n",
    "                std=alpha.std()\n",
    "                alpha=alpha-alpha.mean()*.55\n",
    "                alpha=alpha/std/2\n",
    "                pred_img=alpha\n",
    "                \n",
    "                R=55\n",
    "                pred_img=rp.cv_dilate(pred_img,R,circular=True)\n",
    "                # pred_img=rp.cv_erode(pred_img,R,circular=True)\n",
    "                pred_img=rp.cv_erode(pred_img,R,circular=True)\n",
    "                # R=10\n",
    "                # pred_img=rp.cv_erode(pred_img,R,circular=True)\n",
    "                # pred_img=rp.cv_dilate(pred_img,R,circular=True)\n",
    "                # pred_img=rp.cv_dilate(pred_img,20,circular=True)\n",
    "                \n",
    "                # alpha=pred_img\n",
    "                # std=alpha.std()\n",
    "                # alpha=alpha-alpha.mean()*.9\n",
    "                # alpha=alpha/std/2\n",
    "                # pred_img=alpha\n",
    "\n",
    "                pred_img=rp.as_byte_image(pred_img)\n",
    "                \n",
    "                global displayed\n",
    "                if displayed:\n",
    "                    rp.display_image(pred_img)\n",
    "                    displayed-=1\n",
    "                # print(pred_img)\n",
    "                # 1/0\n",
    "                \n",
    "                for t in range(25):\n",
    "                    thre=t*10\n",
    "                    # thre = t * 255 / 25\n",
    "                    mapa = pred_img > thre\n",
    "                    # print(thre)\n",
    "\n",
    "                    # print(mapa.shape, mapb.shape)\n",
    "                    iou = IOU(mapa, mapb)\n",
    "                    \"\"\"\n",
    "                    # debug\n",
    "                    print(image_name, cls_name, iou)\n",
    "                    display(Image.fromarray(mapa))\n",
    "                    display(Image.fromarray(mapb))\n",
    "                    break\n",
    "                    \"\"\"\n",
    "                    res.append((iou, cls_name, f'Peekaboo-{method}', thre))\n",
    "    print(\"Unfinished images:\")\n",
    "    print(len(unfinished))\n",
    "    return pd.DataFrame(data=res, columns=['IoU', 'class', 'method', 'threshold']), unfinished\n",
    "gp1, unfinished1 = eval_peekaboo_voc(prefix, pred, gt)"
   ]
  },
  {
   "cell_type": "code",
   "execution_count": null,
   "id": "97704289-cf02-4038-9fc2-287ba62681bf",
   "metadata": {
    "tags": []
   },
   "outputs": [],
   "source": [
    "pd.set_option('display.max_rows', 100)  \n",
    "gp1"
   ]
  },
  {
   "cell_type": "code",
   "execution_count": null,
   "id": "0015fd4e-6f70-48f9-9243-6f0a20cb2c2e",
   "metadata": {
    "tags": []
   },
   "outputs": [],
   "source": [
    "pd.set_option('display.max_rows', None)  \n",
    "gp1.groupby(['method', 'threshold', 'class']).mean().round(3)"
   ]
  },
  {
   "cell_type": "code",
   "execution_count": null,
   "id": "8606eae7-72f6-4a72-b6d4-100a14518f23",
   "metadata": {
    "tags": []
   },
   "outputs": [],
   "source": [
    "pd.set_option('display.max_rows', None)  \n",
    "gp1.groupby(['method', 'threshold']).mean().round(5)"
   ]
  },
  {
   "cell_type": "code",
   "execution_count": null,
   "id": "2f8c9634-dfdc-491c-aaa4-06b9ae720305",
   "metadata": {
    "tags": []
   },
   "outputs": [],
   "source": [
    "gp1.to_pickle(\"./RefVOC-Peekaboo.pkl\")  "
   ]
  },
  {
   "cell_type": "code",
   "execution_count": null,
   "id": "7e5b2c17-253e-43b1-a647-b99d86900868",
   "metadata": {
    "tags": []
   },
   "outputs": [],
   "source": [
    "prefix = '/nfs/ws1/datasets/RefVOC-MO/'\n",
    "pred = '/nfs/ws1/ryan/CleanCode/Projects/Peekaboo/Experiments/Dreams/untracked/for_xiang/ref_voc_mo'\n",
    "gt = '/raid/datasets/pascal_voc/VOC2012/SegmentationClass'\n",
    "\n",
    "gp2, unfinished2 = eval_peekaboo_voc(prefix, pred, gt)"
   ]
  },
  {
   "cell_type": "code",
   "execution_count": null,
   "id": "41706a3e-9a45-4bc6-8b37-ec7f937c772b",
   "metadata": {
    "tags": []
   },
   "outputs": [],
   "source": [
    "gp2.groupby(['method', 'class', 'threshold']).mean().round(3)"
   ]
  },
  {
   "cell_type": "code",
   "execution_count": null,
   "id": "574a0884-094c-458f-a84a-d8de2bb76e03",
   "metadata": {
    "tags": []
   },
   "outputs": [],
   "source": [
    "gp2.groupby(['method', 'threshold']).mean().round(5)"
   ]
  },
  {
   "cell_type": "code",
   "execution_count": null,
   "id": "3b8fb294-c70f-4853-901d-bd222b593fb4",
   "metadata": {
    "tags": []
   },
   "outputs": [],
   "source": [
    "gp2.to_pickle(\"./RefVOC-MO-Peekaboo.pkl\")  "
   ]
  },
  {
   "cell_type": "code",
   "execution_count": null,
   "id": "0d3adda7-18a6-48a4-9274-bdfc2e92927e",
   "metadata": {
    "tags": []
   },
   "outputs": [],
   "source": [
    "def eval_peekaboo_coco(prefix, pred, gt):\n",
    "    unfinished = []\n",
    "    with open(os.path.join(prefix, 'cropped.txt'), 'r') as f:\n",
    "        names = f.readlines()\n",
    "    with open(os.path.join(prefix, 'map.txt'), 'r') as f:\n",
    "        maps = f.readlines()\n",
    "    res = []\n",
    "    # random.shuffle(names)\n",
    "    folders = glob(f'{pred}/*')\n",
    "    methods = [folder.split('/')[-1] for folder in folders]\n",
    "    \n",
    "    for i, name in zip(tqdm(maps), names):\n",
    "        i = int(i)\n",
    "        words = name.split()\n",
    "        image_name = words[0]\n",
    "        png_name = image_name.replace('jpg', 'png')\n",
    "        cls_name = ' '.join(words[1:])\n",
    "        \n",
    "        bbox = f'{prefix}/{image_name}.txt'\n",
    "        if os.path.exists(bbox):\n",
    "            with open(bbox, 'r') as f:\n",
    "                x1, x2, y1, y2 = f.readline().split()\n",
    "                x1 = int(x1)\n",
    "                x2 = int(x2)\n",
    "                y1 = int(y1)\n",
    "                y2 = int(y2)\n",
    "            gt_img = cv.imread(os.path.join(gt, f'{i}-{png_name}'), 0)[y1:y2, x1:x2]\n",
    "        else:\n",
    "            gt_img = cv.imread(os.path.join(gt, f'{i}-{png_name}'), 0)\n",
    "            \n",
    "        h, w = gt_img.shape\n",
    "        \n",
    "        mapb = gt_img > 0\n",
    "        \n",
    "        for method, folder in zip(methods, folders):\n",
    "            if method == 'preview_images':\n",
    "                continue\n",
    "            image_target = os.path.join(folder, f'alpha', image_name)\n",
    "            if not os.path.exists(image_target):\n",
    "                unfinished.append(image_target)\n",
    "                continue\n",
    "            pred_img = cv.resize(cv.imread(image_target, 0), (w, h), cv.INTER_NEAREST)\n",
    "\n",
    "            for t in range(10):\n",
    "                thre = t * 255 / 10\n",
    "                mapa = pred_img > thre\n",
    "\n",
    "                # print(mapa.shape, mapb.shape)\n",
    "                iou = IOU(mapa, mapb)\n",
    "                \"\"\"\n",
    "                # debug\n",
    "                print(image_name, cls_name, iou)\n",
    "                display(Image.fromarray(mapa))\n",
    "                display(Image.fromarray(mapb))\n",
    "                break\n",
    "                \"\"\"\n",
    "                res.append((iou, cls_name, f'Peekaboo-{method}', thre))\n",
    "\n",
    "    print(\"Unfinished images:\")\n",
    "    print(unfinished)\n",
    "    return pd.DataFrame(data=res, columns=['IoU', 'class', 'method', 'threshold']), unfinished"
   ]
  },
  {
   "cell_type": "code",
   "execution_count": null,
   "id": "bad2cb22-7d5d-409d-9781-187a82e7928b",
   "metadata": {
    "tags": []
   },
   "outputs": [],
   "source": [
    "prefix = '/nfs/ws1/datasets/RefCOCO/'\n",
    "pred = '/nfs/ws1/ryan/CleanCode/Projects/Peekaboo/Experiments/Dreams/untracked/for_xiang/coco'\n",
    "gt = '/nfs/ws1/datasets/RefCOCO/label/'\n",
    "gp3, unfinished3 = eval_peekaboo_coco(prefix, pred, gt)"
   ]
  },
  {
   "cell_type": "code",
   "execution_count": null,
   "id": "3a89f0ee-9e5d-449b-a88c-e8f1631f0da5",
   "metadata": {},
   "outputs": [],
   "source": []
  }
 ],
 "metadata": {
  "kernelspec": {
   "display_name": "Python 3 (ipykernel)",
   "language": "python",
   "name": "python3"
  },
  "language_info": {
   "codemirror_mode": {
    "name": "ipython",
    "version": 3
   },
   "file_extension": ".py",
   "mimetype": "text/x-python",
   "name": "python",
   "nbconvert_exporter": "python",
   "pygments_lexer": "ipython3",
   "version": "3.8.10"
  }
 },
 "nbformat": 4,
 "nbformat_minor": 5
}
